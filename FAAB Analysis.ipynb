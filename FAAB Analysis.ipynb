{
 "cells": [
  {
   "cell_type": "code",
   "execution_count": 221,
   "metadata": {
    "collapsed": true
   },
   "outputs": [],
   "source": [
    "import pandas as pd\n",
    "import numpy as np\n",
    "import scipy.stats as st\n",
    "import glob\n",
    "import os\n",
    "path = r'data'  "
   ]
  },
  {
   "cell_type": "code",
   "execution_count": 223,
   "metadata": {},
   "outputs": [],
   "source": [
    "faab_files = glob.glob(os.path.join(path, \"2017*faab*.txt\"))\n",
    "faab_dfs = (pd.read_csv(f) for f in faab_files)\n",
    "faab_results   = pd.concat(faab_dfs, ignore_index=True)\n",
    "faab_added = faab_results[faab_results['BIDRESULT']=='Added'][['TEAMNAME','TEAM','PLAYERNAME','PLAYERID','BID']]\n",
    "pd.to_numeric(faab_added['BID'])\n",
    "faab_added.BID.replace(0,1,inplace=True)  #zero bids screw up our PTSPERDOLLAR calc later\n",
    "faab_totals = faab_added.groupby(['TEAMNAME','TEAM','PLAYERNAME','PLAYERID'], axis=0) \\\n",
    "                        .agg({'BID':sum}) \\\n",
    "                        .reset_index()"
   ]
  },
  {
   "cell_type": "code",
   "execution_count": 224,
   "metadata": {},
   "outputs": [],
   "source": [
    "boxscore_files = glob.glob(os.path.join(path, \"2017*quickbox*.txt\"))\n",
    "boxscore_dfs = (pd.read_csv(f) for f in boxscore_files)\n",
    "boxscores   = pd.concat(boxscore_dfs, ignore_index=True)\n",
    "boxscores.replace(to_replace='--', value=0, inplace=True, axis=None)\n",
    "boxscores['PLAYERPOINTS'] = boxscores['PLAYERPOINTS'].astype('float64')\n",
    "boxscores['STARTED'] = boxscores.apply(lambda row: row.SLOT !='Bench', axis=1)\n",
    "\n",
    "boxscore_totals = boxscores[['TEAM','TEAMNAME','STARTED','PLAYERID','PLAYERNAME','PLAYERPOINTS']] \\\n",
    "                    .groupby(['TEAMNAME','TEAM','STARTED','PLAYERNAME','PLAYERID'], axis=0) \\\n",
    "                    .agg([sum,'count','mean']) \\\n",
    "                    .rename(columns={'sum':'TOTAL_PTS','count':'WEEKS','mean':'AVG_PTS'}) \\\n",
    "                    .reset_index()\n",
    "\n",
    "starter_pts = boxscores[boxscores['SLOT']!='Bench'][['TEAM','TEAMNAME','SLOT','PLAYERID','PLAYERNAME','PLAYERPOINTS']]\n",
    "starter_totals = starter_pts.groupby(['TEAMNAME','TEAM','PLAYERNAME','PLAYERID','SLOT'], axis=0) \\\n",
    "                            .agg([sum,'count','mean']) \\\n",
    "                            .rename(columns={'sum':'TOTAL_PTS','count':'WEEKS','mean':'AVG_PTS'}) \\\n",
    "                            .reset_index()\n",
    "\n",
    "#Flatten MultiIndex choosing either group-by column or aggregated column name. \n",
    "boxscore_totals.columns = ['%s' % (b if b else a) \n",
    "                           for a, b in boxscore_totals.columns]\n",
    "\n",
    "starter_totals.columns = ['%s' % (b if b else a) \n",
    "                           for a, b in starter_totals.columns]"
   ]
  },
  {
   "cell_type": "code",
   "execution_count": 225,
   "metadata": {},
   "outputs": [],
   "source": [
    "players_file = glob.glob(os.path.join(path, \"2017*players*.txt\"))\n",
    "players = pd.read_csv(players_file[0])"
   ]
  },
  {
   "cell_type": "code",
   "execution_count": 226,
   "metadata": {
    "scrolled": true
   },
   "outputs": [],
   "source": [
    "result = pd.merge(boxscore_totals,\n",
    "                  faab_totals,                 \n",
    "                  left_on=['TEAM','PLAYERID'],\n",
    "                  right_on=['TEAM','PLAYERID'],\n",
    "                  suffixes=('', '_y'))\n",
    "\n",
    "result = pd.merge(result\n",
    "                 ,players\n",
    "                 ,left_on=['PLAYERID']\n",
    "                 ,right_on=['PLAYERID']\n",
    "                 ,suffixes=('','_P'))\n",
    "\n",
    "result['PTSPERDOLLAR'] = result['TOTAL_PTS'] / result['BID'] # if result['BID'] > 0 else result['PLAYERPOINTS']\n",
    "\n",
    "result = result[['TEAMNAME','PLAYERNAME','STARTED','TOTAL_PTS','POS','BID','PTSPERDOLLAR','WEEKS','AVG_PTS']]\n",
    "\n",
    "       \n",
    "result['RANK_PTS'] = result.groupby(['POS','STARTED'])['TOTAL_PTS'] \\\n",
    "             .rank(method='dense',axis=0,ascending=False)  \n",
    "        \n",
    "result['RANK_PTS_PER_DOLLAR'] = result.groupby(['POS','STARTED'])['PTSPERDOLLAR'] \\\n",
    "             .rank(method='dense',axis=0,ascending=False) \n",
    "\n",
    "result['RANK_WEEKS'] = result.groupby(['POS','STARTED'])['WEEKS'] \\\n",
    "             .rank(method='dense',axis=0,ascending=False) \n",
    "        \n",
    "result['RANK_AVG_PTS'] = result.groupby(['POS','STARTED'])['AVG_PTS'] \\\n",
    "             .rank(method='dense',axis=0,ascending=False) \n"
   ]
  },
  {
   "cell_type": "code",
   "execution_count": 229,
   "metadata": {},
   "outputs": [],
   "source": [
    "df = result[['POS','STARTED','RANK_PTS','RANK_PTS_PER_DOLLAR','RANK_WEEKS','RANK_AVG_PTS','PLAYERNAME','TEAMNAME','TOTAL_PTS','BID','PTSPERDOLLAR','WEEKS','AVG_PTS']] \\\n",
    "        .sort_values(['POS','STARTED','RANK_PTS'],ascending=[False,False,True])\n",
    "\n",
    "df_ppd = df[['POS','STARTED','RANK_PTS_PER_DOLLAR','PLAYERNAME','TEAMNAME','TOTAL_PTS','BID','PTSPERDOLLAR']] \\\n",
    "        .sort_values(['POS','STARTED','RANK_PTS_PER_DOLLAR'],ascending=[False,False,True])\n",
    "    \n",
    "df_raw_pts = df[['POS','STARTED','RANK_PTS','RANK_AVG_PTS','PLAYERNAME','TEAMNAME','TOTAL_PTS','WEEKS','AVG_PTS']] \\\n",
    "        .sort_values(['POS','STARTED','RANK_PTS'],ascending=[False,False,True])\n",
    "\n",
    "df_weeks = df[['POS','STARTED','RANK_WEEKS','PLAYERNAME','TEAMNAME','TOTAL_PTS','BID','PTSPERDOLLAR','WEEKS','AVG_PTS']] \\\n",
    "        .sort_values(['POS','STARTED','RANK_WEEKS'],ascending=[False,False,True])\n",
    "\n",
    "df_summary = df[(df['RANK_PTS_PER_DOLLAR']<=10) | (df['RANK_PTS']<=10)] \\\n",
    "        .sort_values(['POS','STARTED','RANK_PTS_PER_DOLLAR'], ascending=[False,False,True])\n",
    "\n",
    "#df[(df['RANK_WEEKS']<=5) & (df['POS']=='QB')].sort_values('RANK_WEEKS')"
   ]
  },
  {
   "cell_type": "code",
   "execution_count": 239,
   "metadata": {},
   "outputs": [],
   "source": [
    "writer = pd.ExcelWriter('data/faab_and_player_results_data.xlsx')\n",
    "df.to_excel(writer,'ALL',index=False)\n",
    "df_summary.to_excel(writer,'LEADERBOARD',index=False)\n",
    "df_ppd.to_excel(writer,'PTS_PER_DOLLAR',index=False)\n",
    "df_raw_pts.to_excel(writer,'RAW_POINTS',index=False)\n",
    "df_weeks.to_excel(writer,'WEEKS',index=False)\n",
    "writer.save()"
   ]
  }
 ],
 "metadata": {
  "kernelspec": {
   "display_name": "Python 3",
   "language": "python",
   "name": "python3"
  },
  "language_info": {
   "codemirror_mode": {
    "name": "ipython",
    "version": 3
   },
   "file_extension": ".py",
   "mimetype": "text/x-python",
   "name": "python",
   "nbconvert_exporter": "python",
   "pygments_lexer": "ipython3",
   "version": "3.6.3"
  }
 },
 "nbformat": 4,
 "nbformat_minor": 1
}
