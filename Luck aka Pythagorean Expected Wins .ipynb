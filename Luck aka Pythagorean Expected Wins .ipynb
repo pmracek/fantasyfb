{
 "cells": [
  {
   "cell_type": "code",
   "execution_count": 1,
   "metadata": {
    "collapsed": false
   },
   "outputs": [],
   "source": [
    "import pandas as pd\n",
    "import numpy as np\n",
    "import scipy.stats as st"
   ]
  },
  {
   "cell_type": "code",
   "execution_count": 2,
   "metadata": {
    "collapsed": false
   },
   "outputs": [
    {
     "ename": "NameError",
     "evalue": "name 'df' is not defined",
     "output_type": "error",
     "traceback": [
      "\u001b[1;31m---------------------------------------------------------------------------\u001b[0m",
      "\u001b[1;31mNameError\u001b[0m                                 Traceback (most recent call last)",
      "\u001b[1;32m<ipython-input-2-1152f648e0af>\u001b[0m in \u001b[0;36m<module>\u001b[1;34m()\u001b[0m\n\u001b[1;32m----> 1\u001b[1;33m \u001b[0mprint\u001b[0m\u001b[1;33m(\u001b[0m\u001b[0mdf\u001b[0m\u001b[1;33m)\u001b[0m\u001b[1;33m\u001b[0m\u001b[0m\n\u001b[0m",
      "\u001b[1;31mNameError\u001b[0m: name 'df' is not defined"
     ]
    }
   ],
   "source": [
    "print(df)"
   ]
  },
  {
   "cell_type": "code",
   "execution_count": 3,
   "metadata": {
    "collapsed": false
   },
   "outputs": [],
   "source": [
    "df = pd.read_csv('data/2017_00_matchup_recap.txt', header=0)\n",
    "\n",
    "scores = df.loc[df['SEASON']==2017][['TEAMNAME','SCORINGPERIOD','SCORE','OUTCOME']]\n",
    "\n",
    "scores['ACTUAL'] = scores.apply(lambda row: row.OUTCOME == 'W', axis=1)\n",
    "scores['EXPECTED'] = scores['SCORE'].to_frame().apply(st.zscore, ddof=1).apply(st.norm.cdf)\n",
    "scores['EXPECTED_GT50'] = scores.apply(lambda row: row.EXPECTED > .5 , axis=1)\n",
    "scores['EXPECTED_AVG'] = (scores['EXPECTED']+scores['EXPECTED_GT50'])/2\n",
    "\n",
    "exp_wins = scores.groupby('TEAMNAME').sum()[['ACTUAL','EXPECTED','EXPECTED_GT50','EXPECTED_AVG']]\n",
    "exp_wins['LUCK']=exp_wins['ACTUAL']-exp_wins['EXPECTED']\n",
    "exp_wins['LUCK_GT50']=exp_wins['ACTUAL']-exp_wins['EXPECTED_GT50']\n",
    "exp_wins['LUCK_AVG']=(exp_wins['LUCK']+exp_wins['LUCK_GT50'])/2\n",
    "\n"
   ]
  },
  {
   "cell_type": "code",
   "execution_count": 22,
   "metadata": {
    "collapsed": false
   },
   "outputs": [
    {
     "data": {
      "text/html": [
       "<div>\n",
       "<table border=\"1\" class=\"dataframe\">\n",
       "  <thead>\n",
       "    <tr style=\"text-align: right;\">\n",
       "      <th></th>\n",
       "      <th>ACTUAL</th>\n",
       "      <th>EXPECTED_AVG</th>\n",
       "      <th>LUCK_AVG</th>\n",
       "    </tr>\n",
       "    <tr>\n",
       "      <th>TEAMNAME</th>\n",
       "      <th></th>\n",
       "      <th></th>\n",
       "      <th></th>\n",
       "    </tr>\n",
       "  </thead>\n",
       "  <tbody>\n",
       "    <tr>\n",
       "      <th>Jeremy</th>\n",
       "      <td>7.0</td>\n",
       "      <td>9.293621</td>\n",
       "      <td>-2.293621</td>\n",
       "    </tr>\n",
       "    <tr>\n",
       "      <th>Tony</th>\n",
       "      <td>3.0</td>\n",
       "      <td>5.199524</td>\n",
       "      <td>-2.199524</td>\n",
       "    </tr>\n",
       "    <tr>\n",
       "      <th>Thomas</th>\n",
       "      <td>4.0</td>\n",
       "      <td>5.439241</td>\n",
       "      <td>-1.439241</td>\n",
       "    </tr>\n",
       "    <tr>\n",
       "      <th>Schwartz</th>\n",
       "      <td>6.0</td>\n",
       "      <td>7.243049</td>\n",
       "      <td>-1.243049</td>\n",
       "    </tr>\n",
       "    <tr>\n",
       "      <th>Scott</th>\n",
       "      <td>8.0</td>\n",
       "      <td>9.103900</td>\n",
       "      <td>-1.103900</td>\n",
       "    </tr>\n",
       "    <tr>\n",
       "      <th>Paul</th>\n",
       "      <td>8.0</td>\n",
       "      <td>8.648714</td>\n",
       "      <td>-0.648714</td>\n",
       "    </tr>\n",
       "    <tr>\n",
       "      <th>Tim</th>\n",
       "      <td>7.0</td>\n",
       "      <td>6.788894</td>\n",
       "      <td>0.211106</td>\n",
       "    </tr>\n",
       "    <tr>\n",
       "      <th>JMT</th>\n",
       "      <td>9.0</td>\n",
       "      <td>8.346192</td>\n",
       "      <td>0.653808</td>\n",
       "    </tr>\n",
       "    <tr>\n",
       "      <th>JJ</th>\n",
       "      <td>7.0</td>\n",
       "      <td>6.086076</td>\n",
       "      <td>0.913924</td>\n",
       "    </tr>\n",
       "    <tr>\n",
       "      <th>Kyle</th>\n",
       "      <td>9.0</td>\n",
       "      <td>7.729658</td>\n",
       "      <td>1.270342</td>\n",
       "    </tr>\n",
       "    <tr>\n",
       "      <th>Goss</th>\n",
       "      <td>6.0</td>\n",
       "      <td>3.873302</td>\n",
       "      <td>2.126698</td>\n",
       "    </tr>\n",
       "    <tr>\n",
       "      <th>Brent</th>\n",
       "      <td>9.0</td>\n",
       "      <td>6.696173</td>\n",
       "      <td>2.303827</td>\n",
       "    </tr>\n",
       "  </tbody>\n",
       "</table>\n",
       "</div>"
      ],
      "text/plain": [
       "          ACTUAL  EXPECTED_AVG  LUCK_AVG\n",
       "TEAMNAME                                \n",
       "Jeremy       7.0      9.293621 -2.293621\n",
       "Tony         3.0      5.199524 -2.199524\n",
       "Thomas       4.0      5.439241 -1.439241\n",
       "Schwartz     6.0      7.243049 -1.243049\n",
       "Scott        8.0      9.103900 -1.103900\n",
       "Paul         8.0      8.648714 -0.648714\n",
       "Tim          7.0      6.788894  0.211106\n",
       "JMT          9.0      8.346192  0.653808\n",
       "JJ           7.0      6.086076  0.913924\n",
       "Kyle         9.0      7.729658  1.270342\n",
       "Goss         6.0      3.873302  2.126698\n",
       "Brent        9.0      6.696173  2.303827"
      ]
     },
     "execution_count": 22,
     "metadata": {},
     "output_type": "execute_result"
    }
   ],
   "source": [
    "exp_wins[['ACTUAL','EXPECTED_AVG','LUCK_AVG']].sort_values('LUCK_AVG')"
   ]
  },
  {
   "cell_type": "code",
   "execution_count": 28,
   "metadata": {
    "collapsed": false,
    "scrolled": true
   },
   "outputs": [
    {
     "data": {
      "text/html": [
       "<div>\n",
       "<table border=\"1\" class=\"dataframe\">\n",
       "  <thead>\n",
       "    <tr style=\"text-align: right;\">\n",
       "      <th></th>\n",
       "      <th>TEAMNAME</th>\n",
       "      <th>SCORE</th>\n",
       "      <th>OUTCOME</th>\n",
       "      <th>EXPECTED_AVG</th>\n",
       "    </tr>\n",
       "  </thead>\n",
       "  <tbody>\n",
       "    <tr>\n",
       "      <th>164</th>\n",
       "      <td>Brent</td>\n",
       "      <td>160.6</td>\n",
       "      <td>W</td>\n",
       "      <td>0.996326</td>\n",
       "    </tr>\n",
       "    <tr>\n",
       "      <th>162</th>\n",
       "      <td>Kyle</td>\n",
       "      <td>143.0</td>\n",
       "      <td>W</td>\n",
       "      <td>0.972398</td>\n",
       "    </tr>\n",
       "    <tr>\n",
       "      <th>156</th>\n",
       "      <td>Jeremy</td>\n",
       "      <td>128.0</td>\n",
       "      <td>W</td>\n",
       "      <td>0.904949</td>\n",
       "    </tr>\n",
       "    <tr>\n",
       "      <th>161</th>\n",
       "      <td>JMT</td>\n",
       "      <td>116.6</td>\n",
       "      <td>W</td>\n",
       "      <td>0.814878</td>\n",
       "    </tr>\n",
       "    <tr>\n",
       "      <th>167</th>\n",
       "      <td>Tim</td>\n",
       "      <td>111.6</td>\n",
       "      <td>W</td>\n",
       "      <td>0.768245</td>\n",
       "    </tr>\n",
       "    <tr>\n",
       "      <th>165</th>\n",
       "      <td>Paul</td>\n",
       "      <td>106.9</td>\n",
       "      <td>L</td>\n",
       "      <td>0.223422</td>\n",
       "    </tr>\n",
       "    <tr>\n",
       "      <th>157</th>\n",
       "      <td>JJ</td>\n",
       "      <td>101.7</td>\n",
       "      <td>L</td>\n",
       "      <td>0.175460</td>\n",
       "    </tr>\n",
       "    <tr>\n",
       "      <th>158</th>\n",
       "      <td>Scott</td>\n",
       "      <td>96.3</td>\n",
       "      <td>W</td>\n",
       "      <td>0.130280</td>\n",
       "    </tr>\n",
       "    <tr>\n",
       "      <th>160</th>\n",
       "      <td>Schwartz</td>\n",
       "      <td>94.7</td>\n",
       "      <td>L</td>\n",
       "      <td>0.118144</td>\n",
       "    </tr>\n",
       "    <tr>\n",
       "      <th>166</th>\n",
       "      <td>Goss</td>\n",
       "      <td>92.8</td>\n",
       "      <td>L</td>\n",
       "      <td>0.104579</td>\n",
       "    </tr>\n",
       "    <tr>\n",
       "      <th>159</th>\n",
       "      <td>Thomas</td>\n",
       "      <td>92.4</td>\n",
       "      <td>L</td>\n",
       "      <td>0.101845</td>\n",
       "    </tr>\n",
       "    <tr>\n",
       "      <th>163</th>\n",
       "      <td>Tony</td>\n",
       "      <td>90.6</td>\n",
       "      <td>L</td>\n",
       "      <td>0.090078</td>\n",
       "    </tr>\n",
       "  </tbody>\n",
       "</table>\n",
       "</div>"
      ],
      "text/plain": [
       "     TEAMNAME  SCORE OUTCOME  EXPECTED_AVG\n",
       "164     Brent  160.6       W      0.996326\n",
       "162      Kyle  143.0       W      0.972398\n",
       "156    Jeremy  128.0       W      0.904949\n",
       "161       JMT  116.6       W      0.814878\n",
       "167       Tim  111.6       W      0.768245\n",
       "165      Paul  106.9       L      0.223422\n",
       "157        JJ  101.7       L      0.175460\n",
       "158     Scott   96.3       W      0.130280\n",
       "160  Schwartz   94.7       L      0.118144\n",
       "166      Goss   92.8       L      0.104579\n",
       "159    Thomas   92.4       L      0.101845\n",
       "163      Tony   90.6       L      0.090078"
      ]
     },
     "execution_count": 28,
     "metadata": {},
     "output_type": "execute_result"
    }
   ],
   "source": [
    "scores[scores['SCORINGPERIOD']==scores['SCORINGPERIOD'].max()][['TEAMNAME','SCORE','OUTCOME','EXPECTED_AVG']].sort_values('EXPECTED_AVG', ascending=False)"
   ]
  },
  {
   "cell_type": "code",
   "execution_count": 29,
   "metadata": {
    "collapsed": true
   },
   "outputs": [],
   "source": [
    "h2h = df.groupby(['TEAMNAME','OPPONENTNAME', 'OUTCOME'])['OUTCOME'].count().unstack().fillna(0)"
   ]
  },
  {
   "cell_type": "code",
   "execution_count": 46,
   "metadata": {
    "collapsed": false,
    "scrolled": true
   },
   "outputs": [
    {
     "data": {
      "text/plain": [
       "<bound method NDFrame.keys of OUTCOME                  L    T    W\n",
       "TEAMNAME OPPONENTNAME               \n",
       "Brent    Goss          1.0  0.0  1.0\n",
       "         JJ            0.0  0.0  1.0\n",
       "         JMT           1.0  0.0  0.0\n",
       "         Jeremy        0.0  0.0  1.0\n",
       "         Kyle          1.0  0.0  0.0\n",
       "         Paul          0.0  0.0  2.0\n",
       "         Schwartz      1.0  0.0  0.0\n",
       "         Scott         0.0  0.0  1.0\n",
       "         Thomas        0.0  0.0  1.0\n",
       "         Tim           1.0  0.0  1.0\n",
       "         Tony          0.0  0.0  1.0\n",
       "Goss     Brent         1.0  0.0  1.0\n",
       "         JJ            0.0  0.0  1.0\n",
       "         JMT           0.0  0.0  1.0\n",
       "         Jeremy        1.0  0.0  0.0\n",
       "         Kyle          1.0  0.0  0.0\n",
       "         Paul          1.0  0.0  1.0\n",
       "         Schwartz      1.0  0.0  0.0\n",
       "         Scott         1.0  0.0  0.0\n",
       "         Thomas        1.0  0.0  0.0\n",
       "         Tim           1.0  0.0  1.0\n",
       "         Tony          0.0  0.0  1.0\n",
       "JJ       Brent         1.0  0.0  0.0\n",
       "         Goss          1.0  0.0  0.0\n",
       "         JMT           1.0  0.0  0.0\n",
       "         Jeremy        1.0  0.0  1.0\n",
       "         Kyle          0.0  0.0  1.0\n",
       "         Paul          1.0  0.0  0.0\n",
       "         Schwartz      0.0  0.0  1.0\n",
       "         Scott         1.0  0.0  1.0\n",
       "...                    ...  ...  ...\n",
       "Thomas   JMT           1.0  0.0  0.0\n",
       "         Jeremy        2.0  0.0  0.0\n",
       "         Kyle          1.0  0.0  0.0\n",
       "         Paul          0.0  0.0  1.0\n",
       "         Schwartz      0.0  0.0  1.0\n",
       "         Scott         2.0  0.0  0.0\n",
       "         Tim           1.0  0.0  0.0\n",
       "         Tony          1.0  0.0  0.0\n",
       "Tim      Brent         1.0  0.0  1.0\n",
       "         Goss          1.0  0.0  1.0\n",
       "         JJ            1.0  0.0  0.0\n",
       "         JMT           0.0  0.0  1.0\n",
       "         Jeremy        0.0  0.0  1.0\n",
       "         Kyle          1.0  0.0  0.0\n",
       "         Paul          2.0  0.0  0.0\n",
       "         Schwartz      0.0  0.0  1.0\n",
       "         Scott         1.0  0.0  0.0\n",
       "         Thomas        0.0  0.0  1.0\n",
       "         Tony          0.0  0.0  1.0\n",
       "Tony     Brent         1.0  0.0  0.0\n",
       "         Goss          1.0  0.0  0.0\n",
       "         JJ            1.0  0.0  0.0\n",
       "         JMT           2.0  0.0  0.0\n",
       "         Jeremy        0.0  0.0  1.0\n",
       "         Kyle          2.0  0.0  0.0\n",
       "         Paul          1.0  0.0  0.0\n",
       "         Schwartz      1.0  0.0  1.0\n",
       "         Scott         1.0  0.0  0.0\n",
       "         Thomas        0.0  0.0  1.0\n",
       "         Tim           1.0  0.0  0.0\n",
       "\n",
       "[132 rows x 3 columns]>"
      ]
     },
     "execution_count": 46,
     "metadata": {},
     "output_type": "execute_result"
    }
   ],
   "source": []
  },
  {
   "cell_type": "code",
   "execution_count": null,
   "metadata": {
    "collapsed": true
   },
   "outputs": [],
   "source": []
  }
 ],
 "metadata": {
  "anaconda-cloud": {},
  "kernelspec": {
   "display_name": "Python [Root]",
   "language": "python",
   "name": "Python [Root]"
  },
  "language_info": {
   "codemirror_mode": {
    "name": "ipython",
    "version": 3
   },
   "file_extension": ".py",
   "mimetype": "text/x-python",
   "name": "python",
   "nbconvert_exporter": "python",
   "pygments_lexer": "ipython3",
   "version": "3.5.2"
  }
 },
 "nbformat": 4,
 "nbformat_minor": 0
}
