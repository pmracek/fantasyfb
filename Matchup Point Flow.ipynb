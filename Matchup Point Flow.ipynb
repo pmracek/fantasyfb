{
 "cells": [
  {
   "cell_type": "code",
   "execution_count": 1,
   "metadata": {
    "collapsed": true
   },
   "outputs": [],
   "source": [
    "import time, re, csv, espn\n",
    "from bs4 import BeautifulSoup\n",
    "from datetime import datetime, date\n",
    "import requests\n",
    "from collections import defaultdict\n",
    "import math\n",
    "import os.path\n",
    "\n",
    "\n",
    "seasons = range(2017,datetime.now().year+1)\n",
    "\n",
    "def outcome(score1, score2):\n",
    "        if score1 > score2:\n",
    "                outcome = 'W'\n",
    "        elif score1 < score2:\n",
    "                outcome = 'L'\n",
    "        else:\n",
    "                outcome = 'T'\n",
    "        return outcome\n",
    "\n",
    "teamidpattern = re.compile('teamId=(?P<id>\\d+)')\n",
    "weekpattern = re.compile('(?P<wktype>(WEEK|ROUND))\\s(?P<wknum>\\d+)')\n",
    "seasonidpattern = re.compile('seasonId=(?P<season>\\d+)')\n",
    "scoringperiodidpattern = re.compile('scoringPeriodId=(?P<id>\\d+)')\n",
    "bidresultpattern = re.compile('\\w+(?=\\.)')\n",
    "\n",
    "def class_not_leagueSettingsTable(tag):\n",
    "        return tag.has_attr('class') and not re.match(\"leagueSettingsTable\", ' '.join(tag['class'])) and re.match(\"tableBody\", ' '.join(tag['class']))  # have to use the ' '.join() syntax because tag['class'] is actually a list\n",
    "\n",
    "def class_playertablebody(tag):\n",
    "    return tag.has_attr('class') and re.match(\"playerTableTable\", ' '.join(tag['class']))  # have to use the ' '.join() syntax because tag['class'] is actually a list\n",
    "\n",
    "def class_playerrow(tag):\n",
    "    return tag.has_attr('class') and re.match(\"pncPlayerRow\", ' '.join(tag['class']))  # have to use the ' '.join() syntax because tag['class'] is actually a list\n",
    "\n",
    "def get_week_formatted(wk):\n",
    "    weekpattern = re.compile('(?P<wktype>(WEEK|ROUND))\\s(?P<wknum>\\d+)', flags=re.IGNORECASE)\n",
    "    wktype = weekpattern.search(wk).group('wktype')\n",
    "    wknum = weekpattern.search(wk).group('wknum')\n",
    "    return wknum if wktype.upper() == \"WEEK\" else \"P\"+wknum\n",
    "\n",
    "def save_file(season,wk,file,mode,data):\n",
    "    filepath = 'data/'+str(season)+'_'+str(wk)+'_'+str(file)+'.txt'\n",
    "    file_exists = os.path.isfile(filepath)\n",
    "\n",
    "    with open(filepath, mode, newline = '\\n') as f:\n",
    "        writer = csv.writer(f)\n",
    "        #if not file_exists:\n",
    "        #    writer.writeheader()  # file doesn't exist yet, write a header\n",
    "        writer.writerows(data)\n",
    "\n",
    "nfl_start_dt = {\n",
    "        2008:datetime.strptime('20080901','%Y%m%d').date() \n",
    "        , 2009:datetime.strptime('20090907','%Y%m%d').date() \n",
    "        , 2010:datetime.strptime('20100906','%Y%m%d').date() \n",
    "        , 2011:datetime.strptime('20110905','%Y%m%d').date() \n",
    "        , 2012:datetime.strptime('20120903','%Y%m%d').date() \n",
    "        , 2013:datetime.strptime('20130902','%Y%m%d').date() \n",
    "        , 2014:datetime.strptime('20140901','%Y%m%d').date() \n",
    "        , 2015:datetime.strptime('20150907','%Y%m%d').date() \n",
    "        , 2016:datetime.strptime('20160905','%Y%m%d').date() \n",
    "        , 2017:datetime.strptime('20170904','%Y%m%d').date()\n",
    "        , 2018:datetime.strptime('20180903','%Y%m%d').date()\n",
    "       }\n",
    "\n",
    "def week_of_season(d):    \n",
    "    s = datetime.strptime(d,'%Y%m%d').year\n",
    "    dt = datetime.strptime(d,'%Y%m%d').date()\n",
    "\n",
    "    return math.ceil((dt - nfl_start_dt[s]).days/7)\n",
    "\n"
   ]
  },
  {
   "cell_type": "code",
   "execution_count": 2,
   "metadata": {
    "collapsed": true
   },
   "outputs": [],
   "source": [
    "#todo figure out how to load teams / years dynamically\n",
    "pre2010 = {'1':'Scott', '2':'Brent', '3':'JMT', '4':'JJ', '5':'Tim', '6':'Jeremy', '7':'Kyle', '8':'Thomas', '9':'Schwartz', '10':'Blackwell'}\n",
    "t2010 = {'1':'Scott', '2':'Brent', '3':'JMT', '4':'JJ', '5':'Tim', '6':'Jeremy', '7':'Kyle', '8':'Thomas', '9':'Schwartz', '10':'Blackwell', '11':'Tony', '12':'Doogs'}\n",
    "t2011 = {'1':'Scott', '2':'Brent', '3':'JMT', '4':'JJ', '5':'Tim', '6':'Jeremy', '7':'Kyle', '8':'Thomas', '9':'Schwartz', '10':'Blackwell', '11':'Tony', '12':'JonBurriss'}\n",
    "t2012 = {'1':'Scott', '2':'Brent', '3':'JMT', '4':'JJ', '5':'Tim', '6':'Jeremy', '7':'Kyle', '8':'Thomas', '9':'Schwartz', '10':'Blackwell', '11':'Tony', '12':'Paul'}\n",
    "t2016 = {'1':'Scott', '2':'Brent', '3':'JMT', '4':'JJ', '5':'Tim', '6':'Jeremy', '7':'Kyle', '8':'Thomas', '9':'Schwartz', '10':'Goss', '11':'Tony', '12':'Paul'}\n",
    "\n",
    "teams = {2008:pre2010, 2009:pre2010, 2010:t2010, 2011:t2011, 2012:t2012, 2013:t2012, 2014:t2012, 2015:t2012, 2016:t2016, 2017:t2016, 2018:t2016}"
   ]
  },
  {
   "cell_type": "markdown",
   "metadata": {},
   "source": [
    "## Create a Selenium webdriver for Chrome & Login \n",
    "##### Originally used Requests but ESPN site redesign broke login form."
   ]
  },
  {
   "cell_type": "code",
   "execution_count": 3,
   "metadata": {
    "collapsed": true
   },
   "outputs": [],
   "source": [
    "s = espn.getsession()"
   ]
  },
  {
   "cell_type": "markdown",
   "metadata": {},
   "source": [
    "# ESPN Week\n",
    "NFL Week\n",
    "--http://api.fantasy.nfl.com/v2/docs/service?serviceName=nflSchedule\n",
    "--https://www.hooksdata.io/signup?invite=SM4555\n",
    "\n",
    "Season\n",
    "Week\n",
    "DayOfWeek\n",
    "Game Time Slot\n",
    "Timestamp\n",
    "MatchupID (Team1-Team2-Wk#?)\n",
    "Team1ID\n",
    "Team1Name\n",
    "Team1Points\n",
    "Team1Projected\n",
    "Team2ID\n",
    "Team2Name\n",
    "Team2Points\n",
    "Team2Projected"
   ]
  },
  {
   "cell_type": "code",
   "execution_count": 5,
   "metadata": {
    "collapsed": true
   },
   "outputs": [],
   "source": [
    "season = 2018\n",
    "week = 1\n",
    "url = 'http://games.espn.go.com/ffl/scoreboard?leagueId=111414&seasonId='+str(season)\n",
    "r = s.post(url)\n",
    "scoreboard_html = BeautifulSoup(r.text, \"lxml\")\n",
    "\n"
   ]
  },
  {
   "cell_type": "code",
   "execution_count": 6,
   "metadata": {
    "collapsed": true
   },
   "outputs": [],
   "source": [
    "matchups = scoreboard_html.select(\".matchup\")\n",
    "\n",
    "teamidpattern_scoreboard = re.compile('tmTotalPts_(?P<id>\\d+)')\n",
    "\n",
    "header = [('SEASON','SCORINGPERIOD', 'WEEK_NM','COLLECTDATE','DAYOFWEEK','GAMESLOT','COLLECTTIMESTAMP', 'TEAM1','TEAM1NAME','TEAM1PTS','TEAM1PROJ','TEAM1YETTOPLAY','TEAM1INPLAY','TEAM1MINREMAINING','TEAM1TOPSCORER','TEAM2','TEAM2NAME','TEAM2PTS','TEAM2PROJ','TEAM2YETTOPLAY','TEAM2INPLAY','TEAM2MINREMAINING','TEAM2TOPSCORER')]\n",
    "\n",
    "results = []\n",
    "matchids = []\n",
    "\n",
    "for matchup in matchups:\n",
    "    teamids = [] \n",
    "    for ids in matchup.find_all(id=re.compile(\"^tmTotalPts\")):\n",
    "        teamids.append(teamidpattern_scoreboard.search(ids[\"id\"]).group('id'))\n",
    "    matchids.append(str(teamids[0])+'vs'+str(teamids[1])+'-W'+str(week))\n",
    "    \n",
    "    team_tmTotalPts_0 = matchup.find(id='tmTotalPts_'+str(teamids[0])).text\n",
    "    team_ytp_0 = matchup.find(id='team_ytp_'+str(teamids[0])).text\n",
    "    team_ip_0 = matchup.find(id='team_ip_'+str(teamids[0])).text\n",
    "    team_pmr_0 = matchup.find(id='team_pmr_'+str(teamids[0])).text\n",
    "    team_liveproj_0 = matchup.find(id='team_liveproj_'+str(teamids[0])).text\n",
    "    #team_line_0 = matchup.find(id='team_line_'+str(teamids[0])).text\n",
    "    team_topscorer_0 = matchup.find(id='team_topscorer_'+str(teamids[0])).text\n",
    "\n",
    "    team_tmTotalPts_1 = matchup.find(id='tmTotalPts_'+str(teamids[1])).text\n",
    "    team_ytp_1 = matchup.find(id='team_ytp_'+str(teamids[1])).text\n",
    "    team_ip_1 = matchup.find(id='team_ip_'+str(teamids[1])).text\n",
    "    team_pmr_1 = matchup.find(id='team_pmr_'+str(teamids[1])).text\n",
    "    team_liveproj_1 = matchup.find(id='team_liveproj_'+str(teamids[1])).text\n",
    "    #team_line_1 = matchup.find(id='team_line_'+str(teamids[1])).text\n",
    "    team_topscorer_1 = matchup.find(id='team_topscorer_'+str(teamids[1])).text\n",
    "    \n",
    "    results.append((season,week,week,date.today(),date.today().strftime('%a'),'GameTime',datetime.now().strftime(\"%Y-%m-%d %H:%M:%S\"),teamids[0],teams[int(season)][teamids[0]],team_tmTotalPts_0,team_liveproj_0,team_ytp_0,team_ip_0,team_pmr_0,team_topscorer_0,teamids[1],teams[int(season)][teamids[1]],team_tmTotalPts_1,team_liveproj_1,team_ytp_1,team_ip_1,team_pmr_1,team_topscorer_1))\n",
    "\n",
    "\n",
    "save_file(season,week,'matchup_flow','a',results)"
   ]
  }
 ],
 "metadata": {
  "anaconda-cloud": {},
  "kernelspec": {
   "display_name": "Python 3",
   "language": "python",
   "name": "python3"
  },
  "language_info": {
   "codemirror_mode": {
    "name": "ipython",
    "version": 3
   },
   "file_extension": ".py",
   "mimetype": "text/x-python",
   "name": "python",
   "nbconvert_exporter": "python",
   "pygments_lexer": "ipython3",
   "version": "3.6.3"
  }
 },
 "nbformat": 4,
 "nbformat_minor": 1
}
