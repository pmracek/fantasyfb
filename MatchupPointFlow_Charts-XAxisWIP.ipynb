{
 "cells": [
  {
   "cell_type": "code",
   "execution_count": 59,
   "metadata": {},
   "outputs": [],
   "source": [
    "import matplotlib\n",
    "matplotlib.use('Agg')\n",
    "\n",
    "import matplotlib.pyplot as plt\n",
    "import matplotlib.dates as md\n",
    "import pandas as pd\n",
    "import numpy as np\n",
    "from pandas.io.json import json_normalize\n",
    "from datetime import datetime,date,timedelta\n",
    "import boto3\n",
    "import pytz \n",
    "from bs4 import BeautifulSoup\n",
    "import requests\n",
    "import io\n",
    "\n",
    "params = {\n",
    "'token' : 'jgyuNE4NXwPdjzmQS568me3TyXLAL9ZCU9NkVlKj'\n",
    "#,'bot_id' : 'da0beb9ba4b78d5a57a2ed6dd4' #EC\n",
    ",'bot_id' :'4e93908dd6e03b66cbd07fc458' #Test\n",
    "}\n",
    "\n",
    "dynamodb = boto3.resource('dynamodb')\n",
    "table = dynamodb.Table('MatchupGameFlow')\n",
    "\n",
    "leagueId = '111414'\n",
    "season = datetime.now().astimezone(pytz.timezone('US/Eastern')).year\n",
    "\n",
    "r = requests.get('http://www.nfl.com/liveupdate/scorestrip/ss.xml')\n",
    "schedxml = BeautifulSoup(r.text, \"html.parser\")\n",
    "week = schedxml.find('gms')['w']\n",
    "\n",
    "def _is_nfl_game_active():\n",
    "    r = requests.get('http://www.nfl.com/liveupdate/scorestrip/ss.xml')\n",
    "    schedxml = BeautifulSoup(r.text, \"html.parser\")\n",
    "    active = False\n",
    "    for info in schedxml.findAll('g'):        \n",
    "        gamestatus = info['q']\n",
    "        if(gamestatus != 'F'  and gamestatus != 'FO' and gamestatus != 'P'):\n",
    "            active = True  \n",
    "            break\n",
    "        \n",
    "    return active # return active"
   ]
  },
  {
   "cell_type": "code",
   "execution_count": 60,
   "metadata": {},
   "outputs": [],
   "source": [
    "def _last_game_ended_recently():\n",
    "    r = requests.get('http://www.nfl.com/liveupdate/scorestrip/ss.xml')\n",
    "    schedxml = BeautifulSoup(r.text, \"html.parser\")\n",
    "\n",
    "    last_game_end_utc_ts = pytz.utc.localize(datetime(2000, 1, 1, 0, 0))\n",
    "\n",
    "    for info in schedxml.findAll('g'):\n",
    "        hour, minute = info['t'].strip().split(':')\n",
    "        d = datetime(int(info['eid'][:4]), int(info['eid'][4:6]), int(info['eid'][6:8]),\n",
    "                              (int(hour) + 12) % 24, int(minute)).astimezone(pytz.timezone('US/Eastern'))\n",
    "        if(d.hour == 21 and d.minute == 30): #Saturday 9:30am games need to be adjusted from PM to AM\n",
    "            d = d - timedelta(hours=12)\n",
    "        \n",
    "        d = d.astimezone(pytz.timezone('UTC')) #convert to UTC for AWS Lambda environment\n",
    "        \n",
    "        current_utc_ts = pytz.utc.localize(datetime.utcnow())\n",
    "\n",
    "        if(current_utc_ts.date()==d.date()): \n",
    "            last_game_end_utc_ts = d + timedelta(hours=4.5)\n",
    "\n",
    "    return current_utc_ts<=last_game_end_utc_ts\n"
   ]
  },
  {
   "cell_type": "code",
   "execution_count": 61,
   "metadata": {
    "collapsed": true,
    "scrolled": true
   },
   "outputs": [],
   "source": [
    "def generate_charts():\n",
    "    data = table.scan()\n",
    "\n",
    "    df = json_normalize(data, 'Items')[['COLLECTTIMESTAMP','TEAM1','TEAM1NAME','TEAM1PTS','TEAM1PROJ','TEAM2NAME','TEAM2PTS','TEAM2PROJ','SCORINGPERIOD']]\n",
    "    df = df[df['SCORINGPERIOD']==week].sort_values('COLLECTTIMESTAMP', ascending=True)\n",
    "    #df[['COLLECTTIMESTAMP']] = df[['COLLECTTIMESTAMP']].apply(pd.to_datetime)\n",
    "    df[['TEAM1PTS','TEAM1PROJ','TEAM2PTS','TEAM2PROJ']] = df[['TEAM1PTS','TEAM1PROJ','TEAM2PTS','TEAM2PROJ']].apply(pd.to_numeric)\n",
    "\n",
    "\n",
    "    imgs = []\n",
    "    for home_team in df['TEAM1NAME'].unique():\n",
    "        matchup = df[df['TEAM1NAME']==home_team]\n",
    "        team1 = matchup['TEAM1NAME'].unique()[0]\n",
    "        team2 = matchup['TEAM2NAME'].unique()[0]\n",
    "\n",
    "        fig, ax = plt.subplots(1,1)\n",
    "\n",
    "        plt.title(team1+' vs. '+team2+'\\nWeek '+week)\n",
    "        #ax.xaxis.set_minor_locator(md.HourLocator(interval=4))   # every 4 hours\n",
    "        #ax.xaxis.set_minor_formatter(md.DateFormatter('%H:%M'))  # hours and minutes\n",
    "        #ax.xaxis.set_major_locator(md.HourLocator(interval=12))    # every day\n",
    "        #ax.xaxis.set_major_formatter(md.DateFormatter('\\n%a'))\n",
    "        #ax.set_xlim(datetime(2018, 10, 1, 20), datetime(2018, 10, 2 , 0))\n",
    "        ax.xaxis.set_major_locator(plt.NullLocator())\n",
    "        \n",
    "        line_t1pts, = ax.plot(matchup['COLLECTTIMESTAMP'], matchup['TEAM1PTS'], 'r', label=matchup['TEAM1NAME'].unique()[0]+' PTS')\n",
    "        line_t1proj, = ax.plot(matchup['COLLECTTIMESTAMP'], matchup['TEAM1PROJ'], 'r',linestyle='--', dashes=(2, 2), label=matchup['TEAM1NAME'].unique()[0]+' PROJ')\n",
    "        line_t2pts, = ax.plot(matchup['COLLECTTIMESTAMP'], matchup['TEAM2PTS'], 'b', label=matchup['TEAM2NAME'].unique()[0]+' PTS')\n",
    "        line_t2proj, = ax.plot(matchup['COLLECTTIMESTAMP'], matchup['TEAM2PROJ'], 'b',linestyle='--', dashes=(2, 2), label=matchup['TEAM2NAME'].unique()[0]+' PROJ')\n",
    "        ax.legend(loc='best')\n",
    "\n",
    "        buf = io.BytesIO()\n",
    "        plt.savefig(buf, format='png')\n",
    "        buf.seek(0)\n",
    "        imgs.append(buf)\n",
    "        #plt.show()\n",
    "        plt.close()\n",
    "    return imgs\n",
    "\n"
   ]
  },
  {
   "cell_type": "code",
   "execution_count": 62,
   "metadata": {
    "collapsed": true
   },
   "outputs": [],
   "source": [
    "def post_to_groupme(input, imgs):\n",
    "    headers_img = {\n",
    "        'X-Access-Token': input['token'],\n",
    "        'Content-Type': 'image/jpeg',\n",
    "    }\n",
    "\n",
    "    headers_post = {\n",
    "        'Content-Type': 'application/json',\n",
    "    }\n",
    "\n",
    "    for img in imgs:\n",
    "        img.seek(0)\n",
    "        img = requests.post('https://image.groupme.com/pictures', headers=headers_img, data=img)\n",
    "        imgurl = img.json()['payload']['picture_url']\n",
    "        data = '{\"bot_id\":\"'+input['bot_id']+'\",\"text\":\"\",\"attachments\":[{\"type\":\"image\",\"url\":\"'+imgurl+'\"}]}'\n",
    "        response = requests.post('https://api.groupme.com/v3/bots/post', headers=headers_post, data=data)\n",
    "\n"
   ]
  },
  {
   "cell_type": "code",
   "execution_count": 63,
   "metadata": {},
   "outputs": [
    {
     "name": "stdout",
     "output_type": "stream",
     "text": [
      "F\n",
      "F\n",
      "F\n",
      "F\n",
      "F\n",
      "F\n",
      "F\n",
      "F\n",
      "F\n",
      "F\n",
      "F\n",
      "F\n",
      "F\n",
      "2\n"
     ]
    },
    {
     "data": {
      "text/plain": [
       "True"
      ]
     },
     "execution_count": 63,
     "metadata": {},
     "output_type": "execute_result"
    }
   ],
   "source": [
    "def lambda_handler(input,context):\n",
    "    if not _is_nfl_game_active() and not _last_game_ended_recently():\n",
    "        return False\n",
    "    \n",
    "    post_to_groupme(input, generate_charts())\n",
    "    return True\n",
    "\n",
    "lambda_handler(params,None)"
   ]
  },
  {
   "cell_type": "code",
   "execution_count": null,
   "metadata": {
    "collapsed": true
   },
   "outputs": [],
   "source": [
    "\n",
    "\n",
    "\n",
    "\n"
   ]
  },
  {
   "cell_type": "code",
   "execution_count": null,
   "metadata": {
    "collapsed": true
   },
   "outputs": [],
   "source": [
    "fig, ax = plt.subplots(1,1)\n",
    "\n",
    "plt.title(team1+' vs. '+team2+'\\nWeek '+week)\n",
    "#ax.xaxis.set_minor_locator(md.HourLocator(interval=4))   # every 4 hours\n",
    "#ax.xaxis.set_minor_formatter(md.DateFormatter('%H:%M'))  # hours and minutes\n",
    "#ax.xaxis.set_major_locator(md.HourLocator(interval=12))    # every day\n",
    "#ax.xaxis.set_major_formatter(md.DateFormatter('\\n%a'))\n",
    "\n",
    "#ax.set_xticks(matchup['COLLECTTIMESTAMP'])\n",
    "\n",
    "#ax.set_xticklabels(matchup['COLLECTTIMESTAMP'], rotation=45, horizontalalignment='right')\n",
    "#x = np.arange(4)\n",
    "#ax.set_xticks(x, ('Bill', 'Fred', 'Mary', 'Sue'))\n",
    "\n",
    "#ax.set_xlim(datetime(2018, 9, 30, 12), datetime(2018, 10, 2 , 0))\n",
    "\n",
    "#ax.set_xticks(matchup['COLLECTTIMESTAMP'].values)\n",
    "#ax.set_xticklabels(matchup['COLLECTTIMESTAMP'].values, rotation=45, horizontalalignment='right')\n",
    "\n",
    "line_t1pts, = ax.plot(matchup['COLLECTTIMESTAMP'], matchup['TEAM1PTS'], 'r', label=matchup['TEAM1NAME'].unique()[0]+' PTS')\n",
    "line_t1proj, = ax.plot(matchup['COLLECTTIMESTAMP'], matchup['TEAM1PROJ'], 'r',linestyle='--', dashes=(2, 2), label=matchup['TEAM1NAME'].unique()[0]+' PROJ')\n",
    "line_t2pts, = ax.plot(matchup['COLLECTTIMESTAMP'], matchup['TEAM2PTS'], 'b', label=matchup['TEAM2NAME'].unique()[0]+' PTS')\n",
    "line_t2proj, = ax.plot(matchup['COLLECTTIMESTAMP'], matchup['TEAM2PROJ'], 'b',linestyle='--', dashes=(2, 2), label=matchup['TEAM2NAME'].unique()[0]+' PROJ')\n",
    "ax.legend(loc='best')\n",
    "ax.xaxis.set_major_locator(plt.NullLocator())\n",
    "#ax.xaxis.set_major_formatter(plt.NullFormatter())\n",
    "\n",
    "#plt.savefig(buf, format='png')\n",
    "plt.show()\n",
    "plt.close()"
   ]
  },
  {
   "cell_type": "code",
   "execution_count": null,
   "metadata": {
    "collapsed": true
   },
   "outputs": [],
   "source": [
    "\n",
    "\n",
    "every_nth = 4\n",
    "for label in enumerate(ax.get_xticks(minor=True)):\n",
    "    print(label)\n",
    "    #if n % every_nth != 0:\n",
    "    #    label.set_visible(False)\n"
   ]
  },
  {
   "cell_type": "code",
   "execution_count": null,
   "metadata": {
    "collapsed": true
   },
   "outputs": [],
   "source": [
    "fig, ax = plt.subplots(1,1)\n",
    "\n",
    "plt.title(team1+' vs. '+team2+'\\nWeek '+week)\n",
    "#ax.xaxis.set_minor_locator(md.HourLocator(interval=4))   # every 4 hours\n",
    "#ax.xaxis.set_minor_formatter(md.DateFormatter('%H:%M'))  # hours and minutes\n",
    "#ax.xaxis.set_major_locator(md.HourLocator(interval=12))    # every day\n",
    "#ax.xaxis.set_major_formatter(md.DateFormatter('\\n%a'))\n",
    "\n",
    "#ax.set_xticks(matchup['COLLECTTIMESTAMP'])\n",
    "\n",
    "#ax.set_xticklabels(matchup['COLLECTTIMESTAMP'], rotation=45, horizontalalignment='right')\n",
    "#x = np.arange(4)\n",
    "#ax.set_xticks(x, ('Bill', 'Fred', 'Mary', 'Sue'))\n",
    "\n",
    "#ax.set_xlim(datetime(2018, 9, 30, 12), datetime(2018, 10, 2 , 0))\n",
    "\n",
    "#ax.set_xticks(matchup['COLLECTTIMESTAMP'].values)\n",
    "#ax.set_xticklabels(matchup['COLLECTTIMESTAMP'].values, rotation=45, horizontalalignment='right')\n",
    "\n",
    "line_t1pts, = ax.plot(matchup['COLLECTTIMESTAMP'], matchup['TEAM1PTS'], 'r', label=matchup['TEAM1NAME'].unique()[0]+' PTS')\n",
    "line_t1proj, = ax.plot(matchup['COLLECTTIMESTAMP'], matchup['TEAM1PROJ'], 'r',linestyle='--', dashes=(2, 2), label=matchup['TEAM1NAME'].unique()[0]+' PROJ')\n",
    "line_t2pts, = ax.plot(matchup['COLLECTTIMESTAMP'], matchup['TEAM2PTS'], 'b', label=matchup['TEAM2NAME'].unique()[0]+' PTS')\n",
    "line_t2proj, = ax.plot(matchup['COLLECTTIMESTAMP'], matchup['TEAM2PROJ'], 'b',linestyle='--', dashes=(2, 2), label=matchup['TEAM2NAME'].unique()[0]+' PROJ')\n",
    "ax.legend(loc='best')\n",
    "ax.xaxis.set_major_locator(plt.NullLocator())\n",
    "#ax.xaxis.set_major_formatter(plt.NullFormatter())\n",
    "\n",
    "#plt.savefig(buf, format='png')\n",
    "plt.show()\n",
    "plt.close()"
   ]
  },
  {
   "cell_type": "code",
   "execution_count": null,
   "metadata": {
    "collapsed": true
   },
   "outputs": [],
   "source": [
    "#this example from here\n",
    "#https://stackoverflow.com/questions/5656798/python-matplotlib-is-there-a-way-to-make-a-discontinuous-axis/5669301#5669301\n",
    "\n",
    "#another interesting example using index formatter\n",
    "#https://matplotlib.org/examples/api/date_index_formatter.html\n",
    "\n",
    "#check out Jackarow function formatter\n",
    "#https://www.reddit.com/r/learnpython/comments/4lh841/matplotlib_how_to_avoid_displaying_xaxis_entries/\n",
    "\n",
    "import matplotlib.pyplot as plt\n",
    "import numpy as np\n",
    "\n",
    "# If you're not familiar with np.r_, don't worry too much about this. It's just \n",
    "# a series with points from 0 to 1 spaced at 0.1, and 9 to 10 with the same spacing.\n",
    "x = np.r_[0:1:0.1, 9:10:0.1]\n",
    "y = np.sin(x)\n",
    "\n",
    "fig,(ax,ax2) = plt.subplots(1, 2, sharey=True)\n",
    "\n",
    "# plot the same data on both axes\n",
    "ax.plot(x, y, 'bo')\n",
    "ax2.plot(x, y, 'bo')\n",
    "\n",
    "# zoom-in / limit the view to different portions of the data\n",
    "ax.set_xlim(0,1) # most of the data\n",
    "ax2.set_xlim(9,10) # outliers only\n",
    "\n",
    "# hide the spines between ax and ax2\n",
    "ax.spines['right'].set_visible(False)\n",
    "ax2.spines['left'].set_visible(False)\n",
    "ax.yaxis.tick_left()\n",
    "ax.tick_params(labeltop='off') # don't put tick labels at the top\n",
    "ax2.yaxis.tick_right()\n",
    "\n",
    "# Make the spacing between the two axes a bit smaller\n",
    "plt.subplots_adjust(wspace=.1)\n",
    "\n",
    "# This looks pretty good, and was fairly painless, but you can get that\n",
    "# cut-out diagonal lines look with just a bit more work. The important\n",
    "# thing to know here is that in axes coordinates, which are always\n",
    "# between 0-1, spine endpoints are at these locations (0,0), (0,1),\n",
    "# (1,0), and (1,1). Thus, we just need to put the diagonals in the\n",
    "# appropriate corners of each of our axes, and so long as we use the\n",
    "# right transform and disable clipping.\n",
    "\n",
    "d = .01 # how big to make the diagonal lines in axes coordinates\n",
    "# arguments to pass plot, just so we don't keep repeating them\n",
    "#kwargs = dict(transform=ax.transAxes, color='k', clip_on=False)\n",
    "#ax.plot((1-d,1+d),(-d,+d), **kwargs) # top-left diagonal\n",
    "#ax.plot((1-d,1+d),(1-d,1+d), **kwargs) # bottom-left diagonal\n",
    "\n",
    "kwargs.update(transform=ax2.transAxes) # switch to the bottom axes\n",
    "ax2.plot((-d,d),(-d,+d), **kwargs) # top-right diagonal\n",
    "ax2.plot((-d,d),(1-d,1+d), **kwargs) # bottom-right diagonal\n",
    "\n",
    "# What's cool about this is that now if we vary the distance between\n",
    "# ax and ax2 via f.subplots_adjust(hspace=...) or plt.subplot_tool(),\n",
    "# the diagonal lines will move accordingly, and stay right at the tips\n",
    "# of the spines they are 'breaking'\n",
    "\n",
    "plt.show()"
   ]
  },
  {
   "cell_type": "code",
   "execution_count": null,
   "metadata": {
    "collapsed": true
   },
   "outputs": [],
   "source": []
  }
 ],
 "metadata": {
  "kernelspec": {
   "display_name": "Python 3",
   "language": "python",
   "name": "python3"
  },
  "language_info": {
   "codemirror_mode": {
    "name": "ipython",
    "version": 3
   },
   "file_extension": ".py",
   "mimetype": "text/x-python",
   "name": "python",
   "nbconvert_exporter": "python",
   "pygments_lexer": "ipython3",
   "version": "3.6.3"
  }
 },
 "nbformat": 4,
 "nbformat_minor": 2
}
