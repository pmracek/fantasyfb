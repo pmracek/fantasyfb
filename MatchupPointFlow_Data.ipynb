{
 "cells": [
  {
   "cell_type": "code",
   "execution_count": 1,
   "metadata": {},
   "outputs": [],
   "source": [
    "import time, re, csv, espn, espnff, configparser\n",
    "from bs4 import BeautifulSoup\n",
    "from datetime import datetime, date, timezone,timedelta\n",
    "import requests\n",
    "from collections import defaultdict\n",
    "import math\n",
    "import os.path\n",
    "\n",
    "config = configparser.ConfigParser()\n",
    "config.read_file(open('fantasyfb.ini'))\n",
    "\n",
    "leagueId = config.get('main', 'leagueId') if config.has_option('main', 'leagueId') else '111414'\n",
    "\n",
    "season = 2018\n",
    "\n",
    "def get_week_formatted(wk):\n",
    "    weekpattern = re.compile('(?P<wktype>(WEEK|ROUND))\\s(?P<wknum>\\d+)', flags=re.IGNORECASE)\n",
    "    wktype = weekpattern.search(wk).group('wktype')\n",
    "    wknum = weekpattern.search(wk).group('wknum')\n",
    "    return wknum if wktype.upper() == \"WEEK\" else \"P\"+wknum\n",
    "\n",
    "teamidpattern = re.compile('teamId=(?P<id>\\d+)')\n",
    "weekpattern = re.compile('(?P<wktype>(WEEK|ROUND))\\s(?P<wknum>\\d+)')\n",
    "seasonidpattern = re.compile('seasonId=(?P<season>\\d+)')\n",
    "scoringperiodidpattern = re.compile('scoringPeriodId=(?P<id>\\d+)')\n",
    "bidresultpattern = re.compile('\\w+(?=\\.)')\n",
    "\n",
    "pre2010 = {'1':'Scott', '2':'Brent', '3':'JMT', '4':'JJ', '5':'Tim', '6':'Jeremy', '7':'Kyle', '8':'Thomas', '9':'Schwartz', '10':'Blackwell'}\n",
    "t2010 = {'1':'Scott', '2':'Brent', '3':'JMT', '4':'JJ', '5':'Tim', '6':'Jeremy', '7':'Kyle', '8':'Thomas', '9':'Schwartz', '10':'Blackwell', '11':'Tony', '12':'Doogs'}\n",
    "t2011 = {'1':'Scott', '2':'Brent', '3':'JMT', '4':'JJ', '5':'Tim', '6':'Jeremy', '7':'Kyle', '8':'Thomas', '9':'Schwartz', '10':'Blackwell', '11':'Tony', '12':'JonBurriss'}\n",
    "t2012 = {'1':'Scott', '2':'Brent', '3':'JMT', '4':'JJ', '5':'Tim', '6':'Jeremy', '7':'Kyle', '8':'Thomas', '9':'Schwartz', '10':'Blackwell', '11':'Tony', '12':'Paul'}\n",
    "t2016 = {'1':'Scott', '2':'Brent', '3':'JMT', '4':'JJ', '5':'Tim', '6':'Jeremy', '7':'Kyle', '8':'Thomas', '9':'Schwartz', '10':'Goss', '11':'Tony', '12':'Paul'}\n",
    "\n",
    "teams = {2008:pre2010, 2009:pre2010, 2010:t2010, 2011:t2011, 2012:t2012, 2013:t2012, 2014:t2012, 2015:t2012, 2016:t2016, 2017:t2016, 2018:t2016}\n",
    "\n",
    "\n",
    "def save_file(season,wk,file,mode,data):\n",
    "    filepath = 'data/'+str(season)+'_'+str(wk)+'_'+str(file)+'.txt'\n",
    "    file_exists = os.path.isfile(filepath)\n",
    "    header = [('SEASON','SCORINGPERIOD', 'WEEK_NM','COLLECTDATE','DAYOFWEEK','GAMESLOT','COLLECTTIMESTAMP', 'TEAM1','TEAM1NAME','TEAM1PTS','TEAM1PROJ','TEAM1YETTOPLAY','TEAM1INPLAY','TEAM1MINREMAINING','TEAM1TOPSCORER','TEAM2','TEAM2NAME','TEAM2PTS','TEAM2PROJ','TEAM2YETTOPLAY','TEAM2INPLAY','TEAM2MINREMAINING','TEAM2TOPSCORER')]\n",
    "\n",
    "    with open(filepath, mode, newline = '\\n') as f:\n",
    "        writer = csv.writer(f)\n",
    "        if not file_exists:\n",
    "            writer.writerows(header)  # file doesn't exist yet, write a header\n",
    "        writer.writerows(data)"
   ]
  },
  {
   "cell_type": "markdown",
   "metadata": {},
   "source": [
    "#Only run if there is an active NFL game"
   ]
  },
  {
   "cell_type": "code",
   "execution_count": 2,
   "metadata": {},
   "outputs": [
    {
     "ename": "SystemExit",
     "evalue": "",
     "output_type": "error",
     "traceback": [
      "An exception has occurred, use %tb to see the full traceback.\n",
      "\u001b[0;31mSystemExit\u001b[0m\n"
     ]
    },
    {
     "name": "stderr",
     "output_type": "stream",
     "text": [
      "/Users/pm186016/anaconda3/lib/python3.6/site-packages/IPython/core/interactiveshell.py:2870: UserWarning: To exit: use 'exit', 'quit', or Ctrl-D.\n",
      "  warn(\"To exit: use 'exit', 'quit', or Ctrl-D.\", stacklevel=1)\n"
     ]
    }
   ],
   "source": [
    "r = requests.get('http://www.nfl.com/liveupdate/scorestrip/ss.xml')\n",
    "schedxml = BeautifulSoup(r.text, \"lxml\")\n",
    "active = False\n",
    "for info in schedxml.findAll('g'):\n",
    "    hour, minute = info['t'].strip().split(':')\n",
    "    d = datetime(int(info['eid'][:4]), int(info['eid'][4:6]), int(info['eid'][6:8]),\n",
    "                          (int(hour) + 12) % 24, int(minute))\n",
    "    d.astimezone(tz=None)\n",
    "    gamestatus = info['q']\n",
    "    if(gamestatus != 'F' and ((datetime.now() - d) > timedelta(seconds=0))):\n",
    "        active = True\n",
    "\n",
    "if not active:\n",
    "    raise SystemExit()"
   ]
  },
  {
   "cell_type": "markdown",
   "metadata": {},
   "source": [
    "# ESPN Week\n",
    "NFL Week\n",
    "--http://api.fantasy.nfl.com/v2/docs/service?serviceName=nflSchedule\n",
    "--https://www.hooksdata.io/signup?invite=SM4555\n",
    "\n",
    "Season\n",
    "Week\n",
    "DayOfWeek\n",
    "Game Time Slot\n",
    "Timestamp\n",
    "MatchupID (Team1-Team2-Wk#?)\n",
    "Team1ID\n",
    "Team1Name\n",
    "Team1Points\n",
    "Team1Projected\n",
    "Team2ID\n",
    "Team2Name\n",
    "Team2Points\n",
    "Team2Projected"
   ]
  },
  {
   "cell_type": "code",
   "execution_count": 3,
   "metadata": {},
   "outputs": [],
   "source": [
    "url = 'http://games.espn.go.com/ffl/scoreboard'\n",
    "r = requests.get(url,\n",
    "                params={'leagueId': leagueId, 'seasonId': season})\n",
    "scoreboard_html = BeautifulSoup(r.text, \"lxml\")\n",
    "week = get_week_formatted(scoreboard_html.find(\"div\", {\"class\": \"games-pageheader\"}).em.text)\n",
    "\n",
    "matchups = scoreboard_html.select(\".matchup\")\n",
    "\n",
    "teamidpattern_scoreboard = re.compile('tmTotalPts_(?P<id>\\d+)')\n",
    "\n",
    "header = [('SEASON','SCORINGPERIOD', 'WEEK_NM','COLLECTDATE','DAYOFWEEK','GAMESLOT','COLLECTTIMESTAMP', 'TEAM1','TEAM1NAME','TEAM1PTS','TEAM1PROJ','TEAM1YETTOPLAY','TEAM1INPLAY','TEAM1MINREMAINING','TEAM1TOPSCORER','TEAM2','TEAM2NAME','TEAM2PTS','TEAM2PROJ','TEAM2YETTOPLAY','TEAM2INPLAY','TEAM2MINREMAINING','TEAM2TOPSCORER')]\n",
    "\n",
    "results = []\n",
    "matchids = []\n",
    "\n",
    "for matchup in matchups:\n",
    "    teamids = [] \n",
    "    for ids in matchup.find_all(id=re.compile(\"^tmTotalPts\")):\n",
    "        teamids.append(teamidpattern_scoreboard.search(ids[\"id\"]).group('id'))\n",
    "    matchids.append(str(teamids[0])+'vs'+str(teamids[1])+'-W'+str(week))\n",
    "    \n",
    "    team_tmTotalPts_0 = matchup.find(id='tmTotalPts_'+str(teamids[0])).text\n",
    "    team_ytp_0 = matchup.find(id='team_ytp_'+str(teamids[0])).text\n",
    "    team_ip_0 = matchup.find(id='team_ip_'+str(teamids[0])).text\n",
    "    team_pmr_0 = matchup.find(id='team_pmr_'+str(teamids[0])).text\n",
    "    team_liveproj_0 = matchup.find(id='team_liveproj_'+str(teamids[0])).text\n",
    "    #team_line_0 = matchup.find(id='team_line_'+str(teamids[0])).text\n",
    "    team_topscorer_0 = matchup.find(id='team_topscorer_'+str(teamids[0])).text\n",
    "\n",
    "    team_tmTotalPts_1 = matchup.find(id='tmTotalPts_'+str(teamids[1])).text\n",
    "    team_ytp_1 = matchup.find(id='team_ytp_'+str(teamids[1])).text\n",
    "    team_ip_1 = matchup.find(id='team_ip_'+str(teamids[1])).text\n",
    "    team_pmr_1 = matchup.find(id='team_pmr_'+str(teamids[1])).text\n",
    "    team_liveproj_1 = matchup.find(id='team_liveproj_'+str(teamids[1])).text\n",
    "    #team_line_1 = matchup.find(id='team_line_'+str(teamids[1])).text\n",
    "    team_topscorer_1 = matchup.find(id='team_topscorer_'+str(teamids[1])).text\n",
    "    \n",
    "    results.append((season,week,week,date.today(),date.today().strftime('%a'),'GameTime',datetime.now().strftime(\"%Y-%m-%d %H:%M:%S\"),teamids[0],teams[int(season)][teamids[0]],team_tmTotalPts_0,team_liveproj_0,team_ytp_0,team_ip_0,team_pmr_0,team_topscorer_0,teamids[1],teams[int(season)][teamids[1]],team_tmTotalPts_1,team_liveproj_1,team_ytp_1,team_ip_1,team_pmr_1,team_topscorer_1))\n",
    "\n",
    "\n",
    "save_file(season,week,'matchup_flow','a',results)"
   ]
  }
 ],
 "metadata": {
  "anaconda-cloud": {},
  "kernelspec": {
   "display_name": "Python 3",
   "language": "python",
   "name": "python3"
  },
  "language_info": {
   "codemirror_mode": {
    "name": "ipython",
    "version": 3
   },
   "file_extension": ".py",
   "mimetype": "text/x-python",
   "name": "python",
   "nbconvert_exporter": "python",
   "pygments_lexer": "ipython3",
   "version": "3.6.3"
  }
 },
 "nbformat": 4,
 "nbformat_minor": 1
}
