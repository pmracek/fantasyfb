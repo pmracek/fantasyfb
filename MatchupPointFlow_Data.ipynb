{
 "cells": [
  {
   "cell_type": "code",
   "execution_count": 1,
   "metadata": {
    "collapsed": true
   },
   "outputs": [],
   "source": [
    "import requests, re\n",
    "from bs4 import BeautifulSoup\n",
    "from datetime import datetime, date, timezone,timedelta\n",
    "import boto3\n",
    "from pytz import timezone\n",
    "\n",
    "dynamodb = boto3.resource('dynamodb')\n",
    "\n",
    "season = datetime.now().astimezone(timezone('US/Eastern')).year\n",
    "\n",
    "def game_slot(ts):\n",
    "    day = ts.strftime('%A')\n",
    "    gameslot = '' \n",
    "    if ts.hour <= 15: \n",
    "        gameslot = 'Early'\n",
    "    elif ts.hour <= 19:\n",
    "        gameslot = 'Late'\n",
    "    else:\n",
    "        gameslot = 'Night'\n",
    "    return gameslot+' '+day\n",
    "\n",
    "def get_week_formatted(wk):\n",
    "    weekpattern = re.compile('(?P<wktype>(WEEK|ROUND))\\s(?P<wknum>\\d+)', flags=re.IGNORECASE)\n",
    "    wktype = weekpattern.search(wk).group('wktype')\n",
    "    wknum = weekpattern.search(wk).group('wknum')\n",
    "    return wknum if wktype.upper() == \"WEEK\" else \"P\"+wknum\n",
    "\n",
    "pre2010 = {'1':'Scott', '2':'Brent', '3':'JMT', '4':'JJ', '5':'Tim', '6':'Jeremy', '7':'Kyle', '8':'Thomas', '9':'Schwartz', '10':'Blackwell'}\n",
    "t2010 = {'1':'Scott', '2':'Brent', '3':'JMT', '4':'JJ', '5':'Tim', '6':'Jeremy', '7':'Kyle', '8':'Thomas', '9':'Schwartz', '10':'Blackwell', '11':'Tony', '12':'Doogs'}\n",
    "t2011 = {'1':'Scott', '2':'Brent', '3':'JMT', '4':'JJ', '5':'Tim', '6':'Jeremy', '7':'Kyle', '8':'Thomas', '9':'Schwartz', '10':'Blackwell', '11':'Tony', '12':'JonBurriss'}\n",
    "t2012 = {'1':'Scott', '2':'Brent', '3':'JMT', '4':'JJ', '5':'Tim', '6':'Jeremy', '7':'Kyle', '8':'Thomas', '9':'Schwartz', '10':'Blackwell', '11':'Tony', '12':'Paul'}\n",
    "t2016 = {'1':'Scott', '2':'Brent', '3':'JMT', '4':'JJ', '5':'Tim', '6':'Jeremy', '7':'Kyle', '8':'Thomas', '9':'Schwartz', '10':'Goss', '11':'Tony', '12':'Paul'}\n",
    "\n",
    "teams = {2008:pre2010, 2009:pre2010, 2010:t2010, 2011:t2011, 2012:t2012, 2013:t2012, 2014:t2012, 2015:t2012, 2016:t2016, 2017:t2016, 2018:t2016}"
   ]
  },
  {
   "cell_type": "markdown",
   "metadata": {},
   "source": [
    "#Only run if there is an active NFL game"
   ]
  },
  {
   "cell_type": "code",
   "execution_count": 2,
   "metadata": {
    "collapsed": true
   },
   "outputs": [],
   "source": [
    "def _is_nfl_game_active():\n",
    "    r = requests.get('http://www.nfl.com/liveupdate/scorestrip/ss.xml')\n",
    "    schedxml = BeautifulSoup(r.text, \"html.parser\")\n",
    "    active = False\n",
    "    for info in schedxml.findAll('g'):\n",
    "        #hour, minute = info['t'].strip().split(':')\n",
    "        #d = datetime(int(info['eid'][:4]), int(info['eid'][4:6]), int(info['eid'][6:8]),\n",
    "        #                      (int(hour) + 12) % 24, int(minute))\n",
    "        #d.astimezone(tz=None)\n",
    "        gamestatus = info['q']\n",
    "        if(gamestatus != 'F'  and gamestatus != 'FO' and gamestatus != 'P'):\n",
    "            active = True  \n",
    "            break\n",
    "        \n",
    "    return active "
   ]
  },
  {
   "cell_type": "code",
   "execution_count": 32,
   "metadata": {
    "collapsed": true
   },
   "outputs": [],
   "source": [
    "#IMPORTANT: can only look at current or future weeks.  \n",
    "#should add query param for matchupPeriodId and change class scraping logic if weeks has a declared winner \n",
    "#(even on default scoreboard like on Tuesdays).  Matchup box has different class names in that case.  \n",
    "#Not a high priority since I use NFL feed to verify that at least one game is in progress before getting into this method.\n",
    "    \n",
    "def save_matchup_data(input):\n",
    "    table = dynamodb.Table('MatchupGameFlow')\n",
    "    \n",
    "    url = 'http://games.espn.go.com/ffl/scoreboard'\n",
    "    r = requests.get(url,\n",
    "                    params={'leagueId': input['leagueId'], 'seasonId': season})\n",
    "    \n",
    "    scoreboard_html = BeautifulSoup(r.text, \"html.parser\")\n",
    "    week = get_week_formatted(scoreboard_html.find(\"div\", {\"class\": \"games-pageheader\"}).em.text)\n",
    "    teamidpattern_scoreboard = re.compile('tmTotalPts_(?P<id>\\d+)')\n",
    "    \n",
    "    matchups = scoreboard_html.select(\".matchup\")\n",
    "    for matchup in matchups:\n",
    "        teamids = [] \n",
    "        for ids in matchup.find_all(id=re.compile(\"^tmTotalPts\")):\n",
    "            teamids.append(teamidpattern_scoreboard.search(ids[\"id\"]).group('id'))       \n",
    "        \n",
    "        result = {\n",
    "            'SEASON':season\n",
    "            ,'SCORINGPERIOD':week\n",
    "            ,'WEEK_NM':week\n",
    "            ,'COLLECTDATE':datetime.now().astimezone(timezone('US/Eastern')).strftime('%Y-%m-%d')\n",
    "            ,'DAYOFWEEK':datetime.now().astimezone(timezone('US/Eastern')).strftime('%a')\n",
    "            ,'GAMESLOT':game_slot(datetime.now().astimezone(timezone('US/Eastern')))\n",
    "            ,'COLLECTTIMESTAMP':datetime.now().astimezone(timezone('US/Eastern')).strftime(\"%Y-%m-%d %H:%M:%S\")\n",
    "            ,'TEAM1':teamids[0]\n",
    "            ,'TEAM1NAME':teams[int(season)][teamids[0]]\n",
    "            ,'TEAM1PTS':matchup.find(id='tmTotalPts_'+str(teamids[0])).text\n",
    "            ,'TEAM1PROJ':matchup.find(id='team_liveproj_'+str(teamids[0])).text\n",
    "            ,'TEAM1YETTOPLAY':matchup.find(id='team_ytp_'+str(teamids[0])).text\n",
    "            ,'TEAM1INPLAY':matchup.find(id='team_ip_'+str(teamids[0])).text\n",
    "            ,'TEAM1MINREMAINING':matchup.find(id='team_pmr_'+str(teamids[0])).text\n",
    "            ,'TEAM1TOPSCORER':matchup.find(id='team_topscorer_'+str(teamids[0])).text\n",
    "            #team_line_0 = matchup.find(id='team_line_'+str(teamids[0])).text\n",
    "            ,'TEAM2':matchup.find(id='tmTotalPts_'+str(teamids[1])).text\n",
    "            ,'TEAM2NAME':teams[int(season)][teamids[1]]\n",
    "            ,'TEAM2PTS':matchup.find(id='tmTotalPts_'+str(teamids[1])).text\n",
    "            ,'TEAM2PROJ':matchup.find(id='team_liveproj_'+str(teamids[1])).text\n",
    "            ,'TEAM2YETTOPLAY':matchup.find(id='team_ytp_'+str(teamids[1])).text\n",
    "            ,'TEAM2INPLAY':matchup.find(id='team_ip_'+str(teamids[1])).text\n",
    "            ,'TEAM2MINREMAINING':matchup.find(id='team_pmr_'+str(teamids[1])).text\n",
    "            ,'TEAM2TOPSCORER':matchup.find(id='team_topscorer_'+str(teamids[1])).text\n",
    "            ,'LEAGUEID':input['leagueId']\n",
    "            #team_line_1 = matchup.find(id='team_line_'+str(teamids[1])).text\n",
    "        }\n",
    "        \n",
    "        table.put_item(Item=result)"
   ]
  },
  {
   "cell_type": "code",
   "execution_count": 30,
   "metadata": {
    "collapsed": true
   },
   "outputs": [],
   "source": [
    "def handler(input,context):\n",
    "    if not _is_nfl_game_active():\n",
    "        return False\n",
    "\n",
    "    save_matchup_data(input)\n",
    "    return True\n",
    "    "
   ]
  },
  {
   "cell_type": "code",
   "execution_count": 34,
   "metadata": {},
   "outputs": [],
   "source": [
    "#handler({'leagueId':'111414'},None)"
   ]
  },
  {
   "cell_type": "code",
   "execution_count": null,
   "metadata": {
    "collapsed": true
   },
   "outputs": [],
   "source": []
  }
 ],
 "metadata": {
  "anaconda-cloud": {},
  "kernelspec": {
   "display_name": "Python 3",
   "language": "python",
   "name": "python3"
  },
  "language_info": {
   "codemirror_mode": {
    "name": "ipython",
    "version": 3
   },
   "file_extension": ".py",
   "mimetype": "text/x-python",
   "name": "python",
   "nbconvert_exporter": "python",
   "pygments_lexer": "ipython3",
   "version": "3.6.3"
  }
 },
 "nbformat": 4,
 "nbformat_minor": 1
}
