{
 "cells": [
  {
   "cell_type": "code",
   "execution_count": 3,
   "metadata": {
    "collapsed": true
   },
   "outputs": [],
   "source": [
    "import time, re, csv, espn\n",
    "from bs4 import BeautifulSoup\n",
    "from datetime import datetime\n",
    "import requests\n",
    "\n",
    "def save_file(season,wk,file,data):\n",
    "    with open('data/'+str(season)+'_'+str(wk)+'_'+str(file)+'.txt', 'w', newline = '\\n') as f:\n",
    "            writer = csv.writer(f)\n",
    "            writer.writerows(data)\n",
    "\n",
    "s = espn.getsession()"
   ]
  },
  {
   "cell_type": "code",
   "execution_count": 5,
   "metadata": {
    "collapsed": false
   },
   "outputs": [],
   "source": [
    "positions = (('QB',0,150),('RB',2,350),('WR',4,450),('TE',6,250),('DEF',16,0),('K',17,50),('DL',11,250),('LB',10,250),('DB',14,250))\n",
    "players = [('POS','PLAYERID','NAME','NFLTEAM')]\n",
    "\n",
    "for pos in positions:\n",
    "    position = pos[0]\n",
    "    category = str(pos[1])\n",
    "    curstartindex = 0\n",
    "    maxstartindex = pos[2]\n",
    "\n",
    "    while curstartindex<=maxstartindex:\t\n",
    "        url = 'http://games.espn.go.com/ffl/freeagency?leagueId=111414&teamId=12&seasonId=2017&avail=-1&slotCategoryId=' + category + '&startIndex=' + str(curstartindex)\n",
    "        r = s.post(url)\n",
    "        soup = BeautifulSoup(r.text, \"lxml\")\n",
    "\n",
    "        for playerRow in soup(id=re.compile(\"plyr\")):\n",
    "            id = re.search('plyr(?P<pid>\\d+)', playerRow.attrs['id']).group('pid')\n",
    "            name = playerRow.td.a.text\n",
    "            teamabbr = re.search(',?\\s+(?P<team>\\w+)', playerRow.td.contents[1]).group('team') #RE = 0-1 comma followed by 1+ space\n",
    "            players.append((position, id , name , teamabbr ))\n",
    "        curstartindex += 50\n",
    "\n",
    "save_file(2017,'00','players',players)"
   ]
  },
  {
   "cell_type": "code",
   "execution_count": null,
   "metadata": {
    "collapsed": true
   },
   "outputs": [],
   "source": []
  }
 ],
 "metadata": {
  "kernelspec": {
   "display_name": "Python [Root]",
   "language": "python",
   "name": "Python [Root]"
  },
  "language_info": {
   "codemirror_mode": {
    "name": "ipython",
    "version": 3
   },
   "file_extension": ".py",
   "mimetype": "text/x-python",
   "name": "python",
   "nbconvert_exporter": "python",
   "pygments_lexer": "ipython3",
   "version": "3.5.2"
  }
 },
 "nbformat": 4,
 "nbformat_minor": 0
}
