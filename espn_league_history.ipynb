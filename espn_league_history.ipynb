{
 "cells": [
  {
   "cell_type": "code",
   "execution_count": 115,
   "metadata": {
    "collapsed": false
   },
   "outputs": [],
   "source": [
    "import time, re, csv\n",
    "from selenium import webdriver\n",
    "from selenium.common.exceptions import TimeoutException\n",
    "from selenium.common.exceptions import NoSuchElementException\n",
    "from selenium.webdriver.support.ui import WebDriverWait # available since 2.4.0\n",
    "from selenium.webdriver.support import expected_conditions as EC # available since 2.26.0\n",
    "from selenium.webdriver.common.keys import Keys\n",
    "from selenium.webdriver.common.by import By\n",
    "from bs4 import BeautifulSoup\n",
    "from datetime import datetime\n",
    "\n",
    "teamidpattern = re.compile('teamId=(?P<id>\\d+)')\n",
    "weekpattern = re.compile('(?P<wktype>(WEEK|ROUND))\\s(?P<wknum>\\d+)')\n",
    "\n",
    "def outcome(score1, score2):\n",
    "        if score1 > score2:\n",
    "                outcome = 'W'\n",
    "        elif score1 < score2:\n",
    "                outcome = 'L'\n",
    "        else:\n",
    "                outcome = 'T'\n",
    "        return outcome\n",
    "\n",
    "def class_not_leagueSettingsTable(tag):\n",
    "        return tag.has_attr('class') and not re.match(\"leagueSettingsTable\", ' '.join(tag['class'])) and re.match(\"tableBody\", ' '.join(tag['class']))  # have to use the ' '.join() syntax because tag['class'] is actually a list\n"
   ]
  },
  {
   "cell_type": "code",
   "execution_count": 116,
   "metadata": {
    "collapsed": false
   },
   "outputs": [],
   "source": [
    "teams = {'1':'Scott', '2':'Brent', '3':'JMT', '4':'JJ', '5':'Tim', '6':'Jeremy', '7':'Kyle', '8':'Thomas', '9':'Schwartz', '10':'Blackwell', '11':'Tony', '12':'Paul'}\n"
   ]
  },
  {
   "cell_type": "markdown",
   "metadata": {},
   "source": [
    "## Create a Selenium webdriver for Chrome & Login \n",
    "##### Originally used Requests but ESPN site redesign broke login form."
   ]
  },
  {
   "cell_type": "code",
   "execution_count": 117,
   "metadata": {
    "collapsed": false
   },
   "outputs": [],
   "source": [
    "driver = webdriver.Chrome(r'C:\\Users\\PM186016\\Dropbox\\Python\\selenium\\webdriver\\chrome\\chromedriver')\n",
    "\n",
    "driver.get(\"http://games.espn.go.com/ffl/signin\")\n",
    "#implement wait it is mandatory in this case\n",
    "WebDriverWait(driver,1000).until(EC.presence_of_all_elements_located((By.XPATH,\"(//iframe)\")))\n",
    "frms = driver.find_elements_by_tag_name(\"iframe\")\n",
    "\n",
    "for i in range(len(frms)):\n",
    "    driver.switch_to_default_content()\n",
    "    #time.sleep(1)\n",
    "    try:\n",
    "        driver.switch_to_frame(frms[i])\n",
    "        #time.sleep(1)\n",
    "        driver.find_element_by_xpath('(//input[@type=\"email\"])').send_keys(\"pmracek@gmail.com\")\n",
    "        driver.find_element_by_xpath('(//input[@type=\"password\"])').send_keys(\"aissaj\")\n",
    "        driver.find_element_by_xpath(\"//button\").click()\n",
    "        break\n",
    "    except:\n",
    "        pass\n",
    "\n"
   ]
  },
  {
   "cell_type": "markdown",
   "metadata": {
    "collapsed": true
   },
   "source": [
    "##  Create and Parse Soups for Weekly Team Results"
   ]
  },
  {
   "cell_type": "code",
   "execution_count": 118,
   "metadata": {
    "collapsed": false
   },
   "outputs": [
    {
     "name": "stdout",
     "output_type": "stream",
     "text": [
      "\n",
      "2015\n"
     ]
    },
    {
     "name": "stderr",
     "output_type": "stream",
     "text": [
      "C:\\Anaconda3\\lib\\site-packages\\bs4\\__init__.py:166: UserWarning: No parser was explicitly specified, so I'm using the best available HTML parser for this system (\"lxml\"). This usually isn't a problem, but if you run this code on another system, or in a different virtual environment, it may use a different parser and behave differently.\n",
      "\n",
      "To get rid of this warning, change this:\n",
      "\n",
      " BeautifulSoup([your markup])\n",
      "\n",
      "to this:\n",
      "\n",
      " BeautifulSoup([your markup], \"lxml\")\n",
      "\n",
      "  markup_type=markup_type))\n"
     ]
    },
    {
     "name": "stdout",
     "output_type": "stream",
     "text": [
      "1 2 3 4 5 6 7 8 9 10 11 12 13 14 P1 P2 \n",
      "2016\n",
      "1 2 "
     ]
    },
    {
     "ename": "ValueError",
     "evalue": "could not convert string to float: 'Box'",
     "output_type": "error",
     "traceback": [
      "\u001b[1;31m---------------------------------------------------------------------------\u001b[0m",
      "\u001b[1;31mValueError\u001b[0m                                Traceback (most recent call last)",
      "\u001b[1;32m<ipython-input-118-6c7d5316ca84>\u001b[0m in \u001b[0;36m<module>\u001b[1;34m()\u001b[0m\n\u001b[0;32m     47\u001b[0m \u001b[1;33m\u001b[0m\u001b[0m\n\u001b[0;32m     48\u001b[0m                 \u001b[0mteam1\u001b[0m \u001b[1;33m=\u001b[0m \u001b[0mteamidpattern\u001b[0m\u001b[1;33m.\u001b[0m\u001b[0msearch\u001b[0m\u001b[1;33m(\u001b[0m\u001b[0mcurrent_row\u001b[0m\u001b[1;33m.\u001b[0m\u001b[0mcontents\u001b[0m\u001b[1;33m[\u001b[0m\u001b[1;36m1\u001b[0m\u001b[1;33m]\u001b[0m\u001b[1;33m.\u001b[0m\u001b[0ma\u001b[0m\u001b[1;33m.\u001b[0m\u001b[0mget\u001b[0m\u001b[1;33m(\u001b[0m\u001b[1;34m'href'\u001b[0m\u001b[1;33m)\u001b[0m\u001b[1;33m)\u001b[0m\u001b[1;33m.\u001b[0m\u001b[0mgroup\u001b[0m\u001b[1;33m(\u001b[0m\u001b[1;34m'id'\u001b[0m\u001b[1;33m)\u001b[0m\u001b[1;33m\u001b[0m\u001b[0m\n\u001b[1;32m---> 49\u001b[1;33m                 \u001b[0mteam1score\u001b[0m \u001b[1;33m=\u001b[0m \u001b[0mfloat\u001b[0m\u001b[1;33m(\u001b[0m\u001b[0mraw_score\u001b[0m\u001b[1;33m.\u001b[0m\u001b[0msplit\u001b[0m\u001b[1;33m(\u001b[0m\u001b[1;34m'-'\u001b[0m\u001b[1;33m)\u001b[0m\u001b[1;33m[\u001b[0m\u001b[1;36m0\u001b[0m\u001b[1;33m]\u001b[0m\u001b[1;33m)\u001b[0m\u001b[1;33m\u001b[0m\u001b[0m\n\u001b[0m\u001b[0;32m     50\u001b[0m \u001b[1;33m\u001b[0m\u001b[0m\n\u001b[0;32m     51\u001b[0m                 \u001b[0mteam2\u001b[0m \u001b[1;33m=\u001b[0m \u001b[0mteamidpattern\u001b[0m\u001b[1;33m.\u001b[0m\u001b[0msearch\u001b[0m\u001b[1;33m(\u001b[0m\u001b[0mcurrent_row\u001b[0m\u001b[1;33m.\u001b[0m\u001b[0mcontents\u001b[0m\u001b[1;33m[\u001b[0m\u001b[1;36m7\u001b[0m\u001b[1;33m]\u001b[0m\u001b[1;33m.\u001b[0m\u001b[0ma\u001b[0m\u001b[1;33m.\u001b[0m\u001b[0mget\u001b[0m\u001b[1;33m(\u001b[0m\u001b[1;34m'href'\u001b[0m\u001b[1;33m)\u001b[0m\u001b[1;33m)\u001b[0m\u001b[1;33m.\u001b[0m\u001b[0mgroup\u001b[0m\u001b[1;33m(\u001b[0m\u001b[1;34m'id'\u001b[0m\u001b[1;33m)\u001b[0m\u001b[1;33m\u001b[0m\u001b[0m\n",
      "\u001b[1;31mValueError\u001b[0m: could not convert string to float: 'Box'"
     ]
    }
   ],
   "source": [
    "results = [('SEASON','WEEK','TEAM','TEAMNAME','SCORE','OPPONENT','OPPONENTNAME','OPPONENTSCORE', 'OUTCOME')]\n",
    "\n",
    "for season in range(2015,datetime.now().year+1):\n",
    "        print('')\n",
    "        print(season)\n",
    "        url = 'http://games.espn.go.com/ffl/schedule?leagueId=111414&seasonId='+str(season)\n",
    "        driver.get(url) \n",
    "        cur_season = BeautifulSoup(driver.page_source)\n",
    "\n",
    "        first_row = True\n",
    "        while True:\n",
    "                if first_row:\n",
    "                        current_row = cur_season.find(class_not_leagueSettingsTable).tr\n",
    "                        first_row = False\n",
    "                else:\n",
    "                        current_row = current_row.next_sibling\n",
    "                \n",
    "                if current_row is None: # Past last row; exit\n",
    "                        break\n",
    "                if current_row == '\\n': # Line feed, do not process\n",
    "                        continue\n",
    "\n",
    "                try:    # this try block must come before the raw_score or else week never gets set.\n",
    "                        class_ = current_row['class']\n",
    "                except KeyError:\n",
    "                        class_ = \"\"\n",
    "                \n",
    "                if 'tableSubHead' in class_:    # Header row, do not process\n",
    "                        continue\n",
    "                if 'tableHead' in class_:       # Weekly header.  Grab week # and move on\n",
    "                        wktype = weekpattern.search(current_row.td.text).group('wktype')\n",
    "                        wknum = weekpattern.search(current_row.td.text).group('wknum')\n",
    "                        week = wknum if wktype == \"WEEK\" else \"P\"+wknum\n",
    "                        print(week, end=\" \")\n",
    "                        continue\n",
    "\n",
    "                try:\n",
    "                        raw_score = current_row.contents[11].text.rstrip('*')\n",
    "                        \n",
    "                        if raw_score == 'Preview':      # Game has not been played yet\n",
    "                                continue        \n",
    "                except IndexError:      # Spacer row\n",
    "                        continue\n",
    "                        \n",
    "                \n",
    "                #print(current_row)\n",
    "                        \n",
    "                team1 = teamidpattern.search(current_row.contents[1].a.get('href')).group('id')         \n",
    "                team1score = float(raw_score.split('-')[0])\n",
    "                \n",
    "                team2 = teamidpattern.search(current_row.contents[7].a.get('href')).group('id')\n",
    "                team2score = float(raw_score.split('-')[1])     \n",
    "                \n",
    "                results.append((season, week, team1, teams[team1], team1score, team2, teams[team2], team2score, outcome(team1score, team2score)))\n",
    "                results.append((season, week, team2, teams[team2], team2score, team1, teams[team1], team1score, outcome(team2score, team1score)))\n"
   ]
  },
  {
   "cell_type": "code",
   "execution_count": 119,
   "metadata": {
    "collapsed": false
   },
   "outputs": [],
   "source": [
    "with open('data/matchup_results_2015f_thru_2016w2.txt', 'w', newline = '\\n') as f:\n",
    "        writer = csv.writer(f)\n",
    "        writer.writerows(results)"
   ]
  },
  {
   "cell_type": "code",
   "execution_count": null,
   "metadata": {
    "collapsed": true
   },
   "outputs": [],
   "source": [
    "import pandas as pd\n",
    "import numpy as np"
   ]
  },
  {
   "cell_type": "code",
   "execution_count": null,
   "metadata": {
    "collapsed": false
   },
   "outputs": [],
   "source": [
    "df = pd.DataFrame.from_records(results[1:], columns = results[0])\n",
    "print(df)"
   ]
  },
  {
   "cell_type": "code",
   "execution_count": null,
   "metadata": {
    "collapsed": false
   },
   "outputs": [],
   "source": [
    "h2h = df.groupby(['TEAMNAME','OPPONENTNAME', 'OUTCOME'])['OUTCOME'].count().unstack().fillna(0)"
   ]
  },
  {
   "cell_type": "code",
   "execution_count": null,
   "metadata": {
    "collapsed": false
   },
   "outputs": [],
   "source": [
    "h2h.L\n"
   ]
  },
  {
   "cell_type": "code",
   "execution_count": null,
   "metadata": {
    "collapsed": false
   },
   "outputs": [],
   "source": [
    "h2h.columns"
   ]
  },
  {
   "cell_type": "code",
   "execution_count": null,
   "metadata": {
    "collapsed": false
   },
   "outputs": [],
   "source": [
    "type(h2h['W'])"
   ]
  }
 ],
 "metadata": {
  "kernelspec": {
   "display_name": "Python [Root]",
   "language": "python",
   "name": "Python [Root]"
  },
  "language_info": {
   "codemirror_mode": {
    "name": "ipython",
    "version": 3
   },
   "file_extension": ".py",
   "mimetype": "text/x-python",
   "name": "python",
   "nbconvert_exporter": "python",
   "pygments_lexer": "ipython3",
   "version": "3.5.2"
  }
 },
 "nbformat": 4,
 "nbformat_minor": 0
}
