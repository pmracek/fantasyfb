{
 "cells": [
  {
   "cell_type": "code",
   "execution_count": 1,
   "metadata": {
    "collapsed": false
   },
   "outputs": [],
   "source": [
    "import time, re, csv,espn\n",
    "from selenium import webdriver\n",
    "from selenium.common.exceptions import TimeoutException\n",
    "from selenium.common.exceptions import NoSuchElementException\n",
    "from selenium.webdriver.support.ui import WebDriverWait # available since 2.4.0\n",
    "from selenium.webdriver.support import expected_conditions as EC # available since 2.26.0\n",
    "from selenium.webdriver.common.keys import Keys\n",
    "from selenium.webdriver.common.by import By\n",
    "from bs4 import BeautifulSoup\n",
    "from datetime import datetime\n",
    "\n",
    "seasons = range(2016,datetime.now().year+1)\n",
    "\n",
    "teamidpattern = re.compile('teamId=(?P<id>\\d+)')\n",
    "weekpattern = re.compile('(?P<wktype>(WEEK|ROUND))\\s(?P<wknum>\\d+)')\n",
    "seasonidpattern = re.compile('seasonId=(?P<season>\\d+)')\n",
    "scoringperiodidpattern = re.compile('scoringPeriodId=(?P<id>\\d+)')\n",
    "bidresultpattern = re.compile('\\w+(?=\\.)')\n",
    "\n",
    "def outcome(score1, score2):\n",
    "        if score1 > score2:\n",
    "                outcome = 'W'\n",
    "        elif score1 < score2:\n",
    "                outcome = 'L'\n",
    "        else:\n",
    "                outcome = 'T'\n",
    "        return outcome\n",
    "\n",
    "def class_not_leagueSettingsTable(tag):\n",
    "        return tag.has_attr('class') and not re.match(\"leagueSettingsTable\", ' '.join(tag['class'])) and re.match(\"tableBody\", ' '.join(tag['class']))  # have to use the ' '.join() syntax because tag['class'] is actually a list\n",
    "\n",
    "def class_playertablebody(tag):\n",
    "    return tag.has_attr('class') and re.match(\"playerTableTable\", ' '.join(tag['class']))  # have to use the ' '.join() syntax because tag['class'] is actually a list\n",
    "\n",
    "def class_playerrow(tag):\n",
    "    return tag.has_attr('class') and re.match(\"pncPlayerRow\", ' '.join(tag['class']))  # have to use the ' '.join() syntax because tag['class'] is actually a list\n",
    "\n",
    "def get_week_formatted(wk):\n",
    "    weekpattern = re.compile('(?P<wktype>(WEEK|ROUND))\\s(?P<wknum>\\d+)', flags=re.IGNORECASE)\n",
    "    wktype = weekpattern.search(wk).group('wktype')\n",
    "    wknum = weekpattern.search(wk).group('wknum')\n",
    "    return wknum if wktype.upper() == \"WEEK\" else \"P\"+wknum\n",
    "\n",
    "\n"
   ]
  },
  {
   "cell_type": "code",
   "execution_count": 2,
   "metadata": {
    "collapsed": false
   },
   "outputs": [],
   "source": [
    "pre2010 = {'1':'Scott', '2':'Brent', '3':'JMT', '4':'JJ', '5':'Tim', '6':'Jeremy', '7':'Kyle', '8':'Thomas', '9':'Schwartz', '10':'Blackwell'}\n",
    "t2010 = {'1':'Scott', '2':'Brent', '3':'JMT', '4':'JJ', '5':'Tim', '6':'Jeremy', '7':'Kyle', '8':'Thomas', '9':'Schwartz', '10':'Blackwell', '11':'Tony', '12':'Doogs'}\n",
    "t2011 = {'1':'Scott', '2':'Brent', '3':'JMT', '4':'JJ', '5':'Tim', '6':'Jeremy', '7':'Kyle', '8':'Thomas', '9':'Schwartz', '10':'Blackwell', '11':'Tony', '12':'JonBurriss'}\n",
    "t2012 = {'1':'Scott', '2':'Brent', '3':'JMT', '4':'JJ', '5':'Tim', '6':'Jeremy', '7':'Kyle', '8':'Thomas', '9':'Schwartz', '10':'Blackwell', '11':'Tony', '12':'Paul'}\n",
    "t2016 = {'1':'Scott', '2':'Brent', '3':'JMT', '4':'JJ', '5':'Tim', '6':'Jeremy', '7':'Kyle', '8':'Thomas', '9':'Schwartz', '10':'Goss', '11':'Tony', '12':'Paul'}\n",
    "\n",
    "teams = {2008:pre2010, 2009:pre2010, 2010:t2010, 2011:t2011, 2012:t2012, 2013:t2012, 2014:t2012, 2015:t2012, 2016:t2016, 2017:t2016}"
   ]
  },
  {
   "cell_type": "markdown",
   "metadata": {},
   "source": [
    "## Create a Selenium webdriver for Chrome & Login \n",
    "##### Originally used Requests but ESPN site redesign broke login form."
   ]
  },
  {
   "cell_type": "code",
   "execution_count": 3,
   "metadata": {
    "collapsed": false
   },
   "outputs": [
    {
     "name": "stdout",
     "output_type": "stream",
     "text": [
      "Press Enter to continue...\n"
     ]
    }
   ],
   "source": [
    "driver = espn.getdriver()"
   ]
  },
  {
   "cell_type": "markdown",
   "metadata": {
    "collapsed": true
   },
   "source": [
    "##  Create and Parse Soups for Weekly Team Results"
   ]
  },
  {
   "cell_type": "code",
   "execution_count": 4,
   "metadata": {
    "collapsed": false
   },
   "outputs": [
    {
     "name": "stdout",
     "output_type": "stream",
     "text": [
      "\n",
      "2016\n",
      "1 2 3 4 5 6 7 8 9 10 11 12 13 14 P1 P2 \n",
      "2017\n",
      "1 2 3 4 5 6 7 8 9 10 11 12 13 14 P1 P2 "
     ]
    }
   ],
   "source": [
    "results = [('SEASON','SCORINGPERIOD', 'WEEK_NM','TEAM','TEAMNAME','SCORE','OPPONENT','OPPONENTNAME','OPPONENTSCORE', 'OUTCOME')]\n",
    "quickboxurls = []\n",
    "\n",
    "for season in seasons:\n",
    "        print('')\n",
    "        print(season)\n",
    "        url = 'http://games.espn.go.com/ffl/schedule?leagueId=111414&seasonId='+str(season)\n",
    "        driver.get(url) \n",
    "        cur_season = BeautifulSoup(driver.page_source, \"lxml\")\n",
    "\n",
    "        first_row = True\n",
    "        while True:\n",
    "                if first_row:\n",
    "                        current_row = cur_season.find(class_not_leagueSettingsTable).tr\n",
    "                        first_row = False\n",
    "                else:\n",
    "                        current_row = current_row.next_sibling\n",
    "                \n",
    "                if current_row is None: # Past last row; exit\n",
    "                        break\n",
    "                if current_row == '\\n': # Line feed, do not process\n",
    "                        continue\n",
    "\n",
    "                try:    # this try block must come before the raw_score or else week never gets set.\n",
    "                        class_ = current_row['class']\n",
    "                except KeyError:\n",
    "                        class_ = \"\"\n",
    "                \n",
    "                if 'tableSubHead' in class_:    # Header row, do not process\n",
    "                        continue\n",
    "                if 'tableHead' in class_:       # Weekly header.  Grab week # and move on\n",
    "                        week = get_week_formatted(current_row.td.text)\n",
    "                        print(week, end=\" \")\n",
    "                        continue\n",
    "\n",
    "                try:\n",
    "                        raw_score = current_row.contents[11].text.rstrip('*')\n",
    "                        \n",
    "                        if raw_score == 'Preview' or raw_score == 'Box':      # Game has not been played yet\n",
    "                                continue        \n",
    "                except IndexError:      # Spacer row\n",
    "                        continue\n",
    "                        \n",
    "                \n",
    "                quickboxurls.append('http://games.espn.com'+current_row.contents[11].a['href'])\n",
    "                scoringperiod = scoringperiodidpattern.search(current_row.contents[11].a['href']).group('id')\n",
    "                        \n",
    "                team1 = teamidpattern.search(current_row.contents[1].a.get('href')).group('id')         \n",
    "                team1score = float(raw_score.split('-')[0])\n",
    "                \n",
    "                team2 = teamidpattern.search(current_row.contents[7].a.get('href')).group('id')\n",
    "                team2score = float(raw_score.split('-')[1])     \n",
    "                \n",
    "                results.append((season, scoringperiod, week, team1, teams[int(season)][team1], team1score, team2, teams[int(season)][team2], team2score, outcome(team1score, team2score)))\n",
    "                results.append((season, scoringperiod, week, team2, teams[int(season)][team2], team2score, team1, teams[int(season)][team1], team1score, outcome(team2score, team1score)))\n"
   ]
  },
  {
   "cell_type": "code",
   "execution_count": 5,
   "metadata": {
    "collapsed": false
   },
   "outputs": [],
   "source": [
    "with open('data/matchup_results_'+str(seasons[0])+'_thru_'+str(seasons[len(seasons)-1])+'.txt', 'w', newline = '\\n') as f:\n",
    "        writer = csv.writer(f)\n",
    "        writer.writerows(results)"
   ]
  },
  {
   "cell_type": "code",
   "execution_count": 6,
   "metadata": {
    "collapsed": false
   },
   "outputs": [],
   "source": [
    "boxresults = [('SEASON','SCORINGPERIOD', 'WEEK_NM','TEAM','TEAMNAME','SLOT','PLAYERID','PLAYERNAME','PLAYEROPP','GAMEOUTCOME', 'PLAYERPOINTS', 'STARTERPOINTS', 'BENCHPOINTS')]\n",
    "\n",
    "for quickboxurl in quickboxurls:\n",
    "    driver.get(quickboxurl)\n",
    "    cur_matchup = BeautifulSoup(driver.page_source, \"lxml\")\n",
    "    \n",
    "    season = seasonidpattern.search(driver.current_url).group('season')\n",
    "    scoringperiod = scoringperiodidpattern.search(driver.current_url).group('id')\n",
    "    week = get_week_formatted(cur_matchup.select('.games-pageheader')[0].em.text)\n",
    "\n",
    "    allscores = cur_matchup.select('.playertableTableHeader') # Grab the table header with team name because the class=playerTable is used for both bench and starters.  Aka get double results. \n",
    "    for box in allscores:    \n",
    "        cur_team_box = box.parent.parent.parent\n",
    "        left_or_right_box = 0 if re.search('left',cur_team_box['style'],re.IGNORECASE) else 1\n",
    "\n",
    "        cur_team_id = teamidpattern.search(cur_matchup.find(id='teamInfos').find_all('a')[left_or_right_box].get('href')).group('id')\n",
    "\n",
    "        if int(season) >= 2015:\n",
    "            starterpts = cur_team_box.select('.totalScore')[0].text\n",
    "        else:\n",
    "            starterpts = cur_team_box.select('.playerTableBgRowTotals')[0].select('.appliedPoints')[0].text\n",
    "        try: \n",
    "            benchpts = cur_matchup.find(id='tmInactivePts_'+str(cur_team_id)).text \n",
    "        except:\n",
    "            benchpts = '0'\n",
    "\n",
    "        players = cur_team_box.select('.pncPlayerRow')\n",
    "        for player in players:  # will be iterable\n",
    "            slot = player.select('.playerSlot')[0].text if int(season) >= 2015 else player.select('.playertablePlayerName')[0].text.split()[-1]\n",
    "            if slot.upper() == 'IR' or player.select('td')[1].text.strip()=='':\n",
    "                break\n",
    "            playerid = player.find('a')['playerid'] if int(season) >= 2015 else 'null'\n",
    "            playername = player.find('a').text if int(season) >= 2015 and player.select('td')[1].text.strip()!='' else player.select('.playertablePlayerName')[0].text\n",
    "            if re.search('BYE', player.select('.playertablePlayerName')[0].next_sibling.text, re.IGNORECASE):\n",
    "                playeropp = 'BYE'\n",
    "                gameoutcome = 'BYE'\n",
    "            else:\n",
    "                playeropp = player.select('.playertablePlayerName')[0].next_sibling.text if int(season) >= 2015 else player.find_all('a')[0].text\n",
    "                gameoutcome = player.select('.gameStatusDiv')[0].text[2:] if int(season) >= 2015 else player.find_all('a')[1].text\n",
    "            playerpoints = player.select('.playertableStat')[0].text\n",
    "                \n",
    "            boxresults.append((season, scoringperiod, week, cur_team_id, teams[int(season)][cur_team_id],slot, playerid, playername, playeropp, gameoutcome, playerpoints, starterpts, benchpts))\n",
    "\n",
    "with open('data/quickbox.txt', 'w', newline = '\\n') as f:\n",
    "        writer = csv.writer(f)\n",
    "        writer.writerows(boxresults)\n"
   ]
  },
  {
   "cell_type": "code",
   "execution_count": null,
   "metadata": {
    "collapsed": false
   },
   "outputs": [],
   "source": [
    "slot = player.select('.playerSlot')[0].text if int(season) >= 2015 else player.select('.playertablePlayerName')[0].text.split()[-1]\n",
    "\n",
    "if slot.upper() == 'IR' or player.select('td')[1].text.strip()=='':\n",
    "#    break\n",
    "    print('break')\n",
    "    \n",
    "playerid = player.find('a')['playerid'] if int(season) >= 2015 and player.select('td')[1].text.strip()!='' else 'null'\n",
    "playername = player.find('a').text if int(season) >= 2015 and player.select('td')[1].text.strip()!='' else 'null'#player.select('.playertablePlayerName')[0].text\n",
    "if re.search('BYE', player.select('.playertablePlayerName')[0].next_sibling.text, re.IGNORECASE):\n",
    "    playeropp = 'BYE'\n",
    "    gameoutcome = 'BYE'\n",
    "else:\n",
    "    playeropp = player.select('.playertablePlayerName')[0].next_sibling.text if int(season) >= 2015 else player.find_all('a')[0].text\n",
    "    gameoutcome = player.select('.gameStatusDiv')[0].text[2:] if int(season) >= 2015 else player.find_all('a')[1].text\n",
    "playerpoints = player.select('.playertableStat')[0].text"
   ]
  },
  {
   "cell_type": "code",
   "execution_count": null,
   "metadata": {
    "collapsed": true
   },
   "outputs": [],
   "source": []
  },
  {
   "cell_type": "code",
   "execution_count": 18,
   "metadata": {
    "collapsed": false
   },
   "outputs": [
    {
     "ename": "SyntaxError",
     "evalue": "can't assign to function call (<ipython-input-18-9678c0a5f04f>, line 12)",
     "output_type": "error",
     "traceback": [
      "\u001b[1;36m  File \u001b[1;32m\"<ipython-input-18-9678c0a5f04f>\"\u001b[1;36m, line \u001b[1;32m12\u001b[0m\n\u001b[1;33m    for option.get('value') in auction_result_page.find_all('option'):\u001b[0m\n\u001b[1;37m       ^\u001b[0m\n\u001b[1;31mSyntaxError\u001b[0m\u001b[1;31m:\u001b[0m can't assign to function call\n"
     ]
    }
   ],
   "source": [
    "\n",
    "\n",
    "bids = [('SEASON','SCORINGPERIOD','AUCTIONDATE', 'WEEK_NM','TEAM','TEAMNAME','TEAMID','PLAYERID','NAME','BID','BIDRESULT')]\n",
    "\n",
    "url = 'http://games.espn.go.com/ffl/waiverreport?leagueId=111414'\n",
    "driver.get(url)\n",
    "auction_result_page = BeautifulSoup(driver.page_source, \"lxml\")\n",
    "\n",
    "\n",
    "for option in auction_result_page.find_all('option'):\n",
    "    auction_date = option.get('value')\n",
    "    url = 'http://games.espn.go.com/ffl/waiverreport?leagueId=111414&date='+auction_date\n",
    "    auction_response = driver.get(url)\n",
    "    cur_auction = BeautifulSoup(driver.page_source, \"lxml\")\n",
    "    bidTbl = cur_auction.find_all('tr', attrs={'class':'tableBody'})\n",
    "    for bid in bidTbl:\n",
    "        owner = row.contents[2].a\n",
    "        teamId = teamidpattern.search(owner.get('href')).group('id')\n",
    "        player = row.contents[4].a\n",
    "        bidAmt = row.contents[6].string.lstrip('$')\n",
    "        bidresult = bidresultpattern.search(row.contents[7].text).group()\n",
    "        bids.append((auction_date , teamId ,  player.get('playerid') , player.string , bidAmt , bidresult))\n",
    "\n"
   ]
  },
  {
   "cell_type": "code",
   "execution_count": null,
   "metadata": {
    "collapsed": false
   },
   "outputs": [],
   "source": [
    "with open('data/fa_auction_bids.txt', 'w', newline = '') as f:\n",
    "    writer = csv.writer(f)\n",
    "    writer.writerows(bids)"
   ]
  }
 ],
 "metadata": {
  "kernelspec": {
   "display_name": "Python [Root]",
   "language": "python",
   "name": "Python [Root]"
  },
  "language_info": {
   "codemirror_mode": {
    "name": "ipython",
    "version": 3
   },
   "file_extension": ".py",
   "mimetype": "text/x-python",
   "name": "python",
   "nbconvert_exporter": "python",
   "pygments_lexer": "ipython3",
   "version": "3.5.2"
  }
 },
 "nbformat": 4,
 "nbformat_minor": 0
}
