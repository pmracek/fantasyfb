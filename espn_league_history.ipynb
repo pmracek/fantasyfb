{
 "cells": [
  {
   "cell_type": "code",
   "execution_count": 1,
   "metadata": {},
   "outputs": [],
   "source": [
    "import time, re, csv\n",
    "from bs4 import BeautifulSoup\n",
    "from datetime import datetime\n",
    "import requests\n",
    "from collections import defaultdict\n",
    "import math\n",
    "from espn import (getsession,\n",
    "                      class_not_spacer,\n",
    "                      get_week_formatted,\n",
    "                      outcome,\n",
    "                      save_file,\n",
    "                      nfl_start_dt,\n",
    "                      week_of_season,\n",
    "                      teams, )\n",
    "\n",
    "seasons = range(2018,datetime.now().year+1)\n",
    "\n",
    "teamidpattern = re.compile('teamId=(?P<id>\\d+)')\n",
    "weekpattern = re.compile('(?P<wktype>(WEEK|ROUND))\\s(?P<wknum>\\d+)')\n",
    "seasonidpattern = re.compile('seasonId=(?P<season>\\d+)')\n",
    "scoringperiodidpattern = re.compile('scoringPeriodId=(?P<id>\\d+)')\n",
    "bidresultpattern = re.compile('\\w+(?=\\.)')\n",
    "\n",
    "def class_not_leagueSettingsTable(tag):\n",
    "        return tag.has_attr('class') and not re.match(\"leagueSettingsTable\", ' '.join(tag['class'])) and re.match(\"tableBody\", ' '.join(tag['class']))  # have to use the ' '.join() syntax because tag['class'] is actually a list\n",
    "\n",
    "def class_playertablebody(tag):\n",
    "    return tag.has_attr('class') and re.match(\"playerTableTable\", ' '.join(tag['class']))  # have to use the ' '.join() syntax because tag['class'] is actually a list\n",
    "\n",
    "def class_playerrow(tag):\n",
    "    return tag.has_attr('class') and re.match(\"pncPlayerRow\", ' '.join(tag['class']))  # have to use the ' '.join() syntax because tag['class'] is actually a list\n",
    "\n"
   ]
  },
  {
   "cell_type": "markdown",
   "metadata": {},
   "source": [
    "## Create a Selenium webdriver for Chrome & Login \n",
    "##### Originally used Requests but ESPN site redesign broke login form."
   ]
  },
  {
   "cell_type": "code",
   "execution_count": 2,
   "metadata": {
    "collapsed": true
   },
   "outputs": [],
   "source": [
    "s = getsession()"
   ]
  },
  {
   "cell_type": "markdown",
   "metadata": {
    "collapsed": true
   },
   "source": [
    "##  Create and Parse Soups for Weekly Team Results"
   ]
  },
  {
   "cell_type": "code",
   "execution_count": null,
   "metadata": {},
   "outputs": [],
   "source": [
    "quickboxurls = defaultdict(list)\n",
    "\n",
    "for season in seasons:\n",
    "        \n",
    "        print('')\n",
    "        print(season)\n",
    "        \n",
    "        ### Build matchup_recaps\n",
    "        results = [('SEASON','SCORINGPERIOD', 'WEEK_NM','TEAM','TEAMNAME','SCORE','OPPONENT','OPPONENTNAME','OPPONENTSCORE', 'OUTCOME')]\n",
    "        url = 'http://games.espn.go.com/ffl/schedule?leagueId=111414&seasonId='+str(season)\n",
    "        r = s.post(url)\n",
    "        cur_season = BeautifulSoup(r.text, \"lxml\")\n",
    "        \n",
    "        first_row = True\n",
    "        while True:\n",
    "                if first_row:\n",
    "                        current_row = cur_season.find(class_not_leagueSettingsTable).tr\n",
    "                        first_row = False\n",
    "                else:\n",
    "                        current_row = current_row.next_sibling\n",
    "                \n",
    "                if current_row is None: # Past last row; exit\n",
    "                        break\n",
    "                if current_row == '\\n': # Line feed, do not process\n",
    "                        continue\n",
    "\n",
    "                try:    # this try block must come before the raw_score or else week never gets set.\n",
    "                        class_ = current_row['class']\n",
    "                except KeyError:\n",
    "                        class_ = \"\"\n",
    "                \n",
    "                if 'tableSubHead' in class_:    # Header row, do not process\n",
    "                        continue\n",
    "                if 'tableHead' in class_:       # Weekly header.  Grab week # and move on\n",
    "                        week = get_week_formatted(current_row.td.text)\n",
    "                        print(week, end=\" \")\n",
    "                        continue\n",
    "\n",
    "                try:\n",
    "                        raw_score = current_row.contents[11].text.rstrip('*')\n",
    "                        \n",
    "                        if raw_score == 'Preview' or raw_score == 'Box':      # Game has not been played yet\n",
    "                                continue        \n",
    "                except IndexError:      # Spacer row\n",
    "                        continue\n",
    "                        \n",
    "                                \n",
    "                quickboxurls[season].append('http://games.espn.com'+current_row.contents[11].a['href'])  \n",
    "                scoringperiod = scoringperiodidpattern.search(current_row.contents[11].a['href']).group('id')\n",
    "                        \n",
    "                team1 = teamidpattern.search(current_row.contents[1].a.get('href')).group('id')         \n",
    "                team1score = float(raw_score.split('-')[0])\n",
    "                \n",
    "                team2 = teamidpattern.search(current_row.contents[7].a.get('href')).group('id')\n",
    "                team2score = float(raw_score.split('-')[1])     \n",
    "                \n",
    "                results.append((season, scoringperiod, week, team1, teams[int(season)][team1], team1score, team2, teams[int(season)][team2], team2score, outcome(team1score, team2score)))\n",
    "                results.append((season, scoringperiod, week, team2, teams[int(season)][team2], team2score, team1, teams[int(season)][team1], team1score, outcome(team2score, team1score)))\n",
    "\n",
    "        save_file(season,'00','matchup_recap',results)"
   ]
  },
  {
   "cell_type": "code",
   "execution_count": null,
   "metadata": {},
   "outputs": [],
   "source": [
    "for season in seasons:\n",
    "    print('')\n",
    "    print(season)\n",
    "    \n",
    "    boxresults = [('SEASON','SCORINGPERIOD', 'WEEK_NM','TEAM','TEAMNAME','SLOT','PLAYERID','PLAYERNAME','PLAYEROPP','GAMEOUTCOME', 'PLAYERPOINTS', 'STARTERPOINTS', 'BENCHPOINTS')]\n",
    "    for quickboxurl in quickboxurls[season]:        \n",
    "        r = s.post(quickboxurl)\n",
    "        cur_matchup = BeautifulSoup(r.text, \"lxml\")\n",
    "\n",
    "        scoringperiod = scoringperiodidpattern.search(quickboxurl).group('id')\n",
    "        week = get_week_formatted(cur_matchup.select('.games-pageheader')[0].em.text)\n",
    "\n",
    "        allscores = cur_matchup.select('.playertableTableHeader') # Grab the table header with team name because the class=playerTable is used for both bench and starters.  Aka get double results. \n",
    "        for box in allscores:    \n",
    "            cur_team_box = box.parent.parent\n",
    "            left_or_right_box = 0 if re.search('left',cur_team_box['style'],re.IGNORECASE) else 1\n",
    "\n",
    "            cur_team_id = teamidpattern.search(cur_matchup.find(id='teamInfos').find_all('a')[left_or_right_box].get('href')).group('id')\n",
    "\n",
    "            if int(season) > 2015:\n",
    "                starterpts = cur_team_box.select('.totalScore')[0].text\n",
    "            else:\n",
    "                starterpts = cur_team_box.select('.playerTableBgRowTotals')[0].select('.appliedPoints')[0].text\n",
    "            try: \n",
    "                benchpts = cur_matchup.find(id='tmInactivePts_'+str(cur_team_id)).text \n",
    "            except:\n",
    "                benchpts = '0'\n",
    "\n",
    "            players = cur_team_box.select('.pncPlayerRow')\n",
    "            for player in players:  # will be iterable\n",
    "                slot = player.select('.playerSlot')[0].text if int(season) > 2015 else player.select('.playertablePlayerName')[0].text.split()[-1]\n",
    "                if slot.upper() == 'IR' or player.select('td')[1].text.strip()=='':\n",
    "                    break\n",
    "                playerid = player.find('a')['playerid'] if int(season) > 2015 else 'null'\n",
    "                playername = player.find('a').text if int(season) > 2015 and player.select('td')[1].text.strip()!='' else player.select('.playertablePlayerName')[0].text\n",
    "                if re.search('BYE', player.select('.playertablePlayerName')[0].next_sibling.text, re.IGNORECASE):\n",
    "                    playeropp = 'BYE'\n",
    "                    gameoutcome = 'BYE'\n",
    "                else:\n",
    "                    playeropp = player.select('.playertablePlayerName')[0].next_sibling.text if int(season) > 2015 else player.find_all('a')[0].text\n",
    "                    gameoutcome = player.select('.gameStatusDiv')[0].text[2:] if int(season) > 2015 else player.find_all('a')[1].text\n",
    "                playerpoints = player.select('.playertableStat')[0].text\n",
    "\n",
    "                boxresults.append((season, scoringperiod, week, cur_team_id, teams[int(season)][cur_team_id],slot, playerid, playername, playeropp, gameoutcome, playerpoints, starterpts, benchpts))\n",
    "\n",
    "    save_file(season,'00','quickbox',boxresults)\n"
   ]
  },
  {
   "cell_type": "code",
   "execution_count": 4,
   "metadata": {},
   "outputs": [
    {
     "name": "stdout",
     "output_type": "stream",
     "text": [
      "\n",
      "2018\n",
      "0\n",
      "2\n"
     ]
    }
   ],
   "source": [
    "for season in seasons: \n",
    "    print('')\n",
    "    print(season)\n",
    "    if season < 2016:\n",
    "        break\n",
    "        \n",
    "    url = 'http://games.espn.go.com/ffl/waiverreport?leagueId=111414&seasonId='+str(season)\n",
    "    r = s.post(url)\n",
    "    auction_landing_page = BeautifulSoup(r.text, \"lxml\")\n",
    "\n",
    "    scoringPeriodId = 0\n",
    "    bids = [('SEASON','SCORINGPERIOD','WEEK_NM','AUCTIONDATE','TEAM','TEAMNAME','PLAYERID','PLAYERNAME','BID','BIDRESULT')]\n",
    "    \n",
    "    for option in auction_landing_page.find_all('option'):\n",
    "        auction_date = option.get('value')\n",
    "        \n",
    "        if scoringPeriodId != week_of_season(auction_date) and len(bids) > 1:\n",
    "            print(scoringPeriodId)\n",
    "            save_file(season,'{0:02d}'.format(scoringPeriodId),'faab_report',bids)                \n",
    "            bids = [('SEASON','SCORINGPERIOD','WEEK_NM','AUCTIONDATE','TEAM','TEAMNAME','PLAYERID','PLAYERNAME','BID','BIDRESULT')]\n",
    "        \n",
    "        scoringPeriodId = week_of_season(auction_date)         \n",
    "        url = 'http://games.espn.go.com/ffl/waiverreport?leagueId=111414&seasonId='+str(season)+'&date='+auction_date\n",
    "        r = s.post(url)\n",
    "        cur_auction = BeautifulSoup(r.text, \"lxml\")   \n",
    "        \n",
    "        bidTbl = cur_auction.find_all('tr', attrs={'class':'tableBody'})\n",
    "        for bid in bidTbl:\n",
    "            owner = bid.contents[2].a\n",
    "            teamId = teamidpattern.search(owner.get('href')).group('id')\n",
    "            player = bid.contents[4].a\n",
    "            bidAmt = bid.contents[6].string.lstrip('$')\n",
    "            bidResult = bidresultpattern.search(bid.contents[7].text).group()\n",
    "            \n",
    "            bids.append((season,week_of_season(auction_date),week_of_season(auction_date), auction_date , teamId , teams[int(season)][teamId], player.get('playerid') , player.string , bidAmt , bidResult))\n",
    "\n",
    "    #last week each season will not be saved yet\n",
    "    save_file(season,'{0:02d}'.format(scoringPeriodId),'faab_report',bids)\n",
    "    print(scoringPeriodId)    "
   ]
  },
  {
   "cell_type": "code",
   "execution_count": 3,
   "metadata": {},
   "outputs": [
    {
     "data": {
      "text/plain": [
       "0"
      ]
     },
     "execution_count": 3,
     "metadata": {},
     "output_type": "execute_result"
    }
   ],
   "source": []
  },
  {
   "cell_type": "code",
   "execution_count": null,
   "metadata": {
    "collapsed": true
   },
   "outputs": [],
   "source": []
  }
 ],
 "metadata": {
  "anaconda-cloud": {},
  "kernelspec": {
   "display_name": "Python 3",
   "language": "python",
   "name": "python3"
  },
  "language_info": {
   "codemirror_mode": {
    "name": "ipython",
    "version": 3
   },
   "file_extension": ".py",
   "mimetype": "text/x-python",
   "name": "python",
   "nbconvert_exporter": "python",
   "pygments_lexer": "ipython3",
   "version": "3.6.3"
  }
 },
 "nbformat": 4,
 "nbformat_minor": 1
}
